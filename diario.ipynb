{
 "cells": [
  {
   "cell_type": "code",
   "execution_count": 1,
   "metadata": {},
   "outputs": [],
   "source": [
    "from sys import exit\n",
    "import pandas as pd\n",
    "from datetime import datetime, timedelta\n",
    "\n",
    "from bulletin.data.notifica import Notifica\n",
    "from bulletin.data.casos_confirmados import CasosConfirmados\n",
    "from bulletin.commom import static, normalize\n",
    "\n",
    "pd.set_option('display.max_columns', None)"
   ]
  },
  {
   "cell_type": "code",
   "execution_count": 2,
   "metadata": {},
   "outputs": [],
   "source": [
    "hoje = datetime.today()\n",
    "ontem = hoje - timedelta(1)\n",
    "anteontem = ontem - timedelta(1)"
   ]
  },
  {
   "cell_type": "code",
   "execution_count": 3,
   "metadata": {},
   "outputs": [
    {
     "name": "stdout",
     "output_type": "stream",
     "text": [
      "saved checksum: 8e54cb8b6e2d40a99c8d27cf8e6ed7e44b841bec341a5c3315b4226947e042fc\n",
      "current checksum: 8e54cb8b6e2d40a99c8d27cf8e6ed7e44b841bec341a5c3315b4226947e042fc\n",
      "Tudo certo, nenhuma alteração detectada\n",
      "C:\\sesa-covid19\\bulletin\\tmp\\notifica.pkl carregado\n",
      "Atualizando o arquivo C:\\sesa-covid19\\bulletin\\tmp\\notifica.pkl com o C:\\sesa-covid19\\bulletin\\tmp\\notifica.csv...\n",
      "C:\\sesa-covid19\\bulletin\\tmp\\notifica.pkl salvo e C:\\sesa-covid19\\bulletin\\tmp\\notifica_checksum atualizado\n"
     ]
    },
    {
     "data": {
      "text/plain": [
       "(235716, 176679, 4591, 52713, 42)"
      ]
     },
     "execution_count": 3,
     "metadata": {},
     "output_type": "execute_result"
    }
   ],
   "source": [
    "notifica = Notifica()\n",
    "notifica.update()\n",
    "notifica.shape()"
   ]
  },
  {
   "cell_type": "code",
   "execution_count": 4,
   "metadata": {},
   "outputs": [
    {
     "name": "stdout",
     "output_type": "stream",
     "text": [
      "saved checksum: 9f43bbbd89635cd464865cf6fac281a07aeb0f0f3f4e989206d84f1486137861\n",
      "current checksum: 9f43bbbd89635cd464865cf6fac281a07aeb0f0f3f4e989206d84f1486137861\n",
      "Tudo certo, nenhuma alteração detectada\n",
      "{'casos': 'C:\\\\sesa-covid19\\\\bulletin\\\\tmp\\\\casos.pkl', 'obitos': 'C:\\\\sesa-covid19\\\\bulletin\\\\tmp\\\\obitos.pkl'} carregado\n",
      "Atualizando o arquivo {'casos': 'C:\\\\sesa-covid19\\\\bulletin\\\\tmp\\\\casos.pkl', 'obitos': 'C:\\\\sesa-covid19\\\\bulletin\\\\tmp\\\\obitos.pkl'} com o C:\\sesa-covid19\\bulletin\\tmp\\Casos confirmados.xlsx...\n",
      "{'casos': 'C:\\\\sesa-covid19\\\\bulletin\\\\tmp\\\\casos.pkl', 'obitos': 'C:\\\\sesa-covid19\\\\bulletin\\\\tmp\\\\obitos.pkl'} salvo e C:\\sesa-covid19\\bulletin\\tmp\\casos_confirmados_checksum atualizado\n"
     ]
    },
    {
     "data": {
      "text/plain": [
       "(269258, 6049)"
      ]
     },
     "execution_count": 4,
     "metadata": {},
     "output_type": "execute_result"
    }
   ],
   "source": [
    "casos_confirmados = CasosConfirmados()\n",
    "casos_confirmados.update()\n",
    "casos_confirmados.shape()"
   ]
  },
  {
   "cell_type": "code",
   "execution_count": 5,
   "metadata": {},
   "outputs": [],
   "source": [
    "notifica.filter_date(anteontem)"
   ]
  },
  {
   "cell_type": "code",
   "execution_count": 6,
   "metadata": {},
   "outputs": [],
   "source": [
    "notifica_novos_casos = notifica.get_casos()"
   ]
  },
  {
   "cell_type": "code",
   "execution_count": 7,
   "metadata": {},
   "outputs": [],
   "source": [
    "notifica_novos_obitos = notifica.get_obitos()"
   ]
  },
  {
   "cell_type": "code",
   "execution_count": 8,
   "metadata": {},
   "outputs": [
    {
     "name": "stdout",
     "output_type": "stream",
     "text": [
      "casos novos: 7713\n",
      "casos novos duplicados: 2\n",
      "casos novos sem diagnóstico: 0\n",
      "casos novos sem laboratório: 79\n",
      "casos novos sem sexo: 2\n",
      "casos novos validos: 7711\n",
      "casos já em casos com a mesma idade: 3883\n",
      "casos já em casos com a idade - 1: 105\n",
      "casos já em casos com a idade + 1: 0\n",
      "dentre os quais 3 são casos em comum, o que leva a crer que estão duplicados na planilha já com idade a mais ou idade a menos\n",
      "sendo assim, 3985 casos que já se encontram na planilha serão removidos\n",
      "\n",
      "então, de 7711 casos baixados hoje  3726 serão adicionados\n",
      "\n"
     ]
    }
   ],
   "source": [
    "novos_casos = casos_confirmados.novos_casos(notifica_novos_casos)"
   ]
  },
  {
   "cell_type": "code",
   "execution_count": 9,
   "metadata": {},
   "outputs": [
    {
     "name": "stdout",
     "output_type": "stream",
     "text": [
      "obitos novos notifica 56 + 3 curitiba\n",
      "\n",
      "obitos novos duplicados: 1\n",
      "obitos já em obitos com a mesma idade: 23\n",
      "obitos já em obitos com a idade - 1: 1\n",
      "obitos já em obitos com a idade + 1: 0\n",
      "dentre os quais 1 são obitos duplicados com idade diferente\n",
      "obitos que estão nos casos porém com um ano a menos 1\n",
      "obitos que estão nos casos porém com um ano a mais 0\n",
      "obitos que não estão nos casos 0\n",
      "sendo assim, 24 obitos que já se encontram na planilha serão removidos\n",
      "\n",
      "então, de 56 obitos baixados hoje + 3 inseridos de Curitiba, 35 serão adicionados\n",
      "\n"
     ]
    }
   ],
   "source": [
    "novos_obitos = casos_confirmados.novos_obitos(novos_casos, notifica_novos_obitos)"
   ]
  },
  {
   "cell_type": "code",
   "execution_count": 10,
   "metadata": {},
   "outputs": [],
   "source": [
    "# novos_casos = pd.read_excel('novos_casos.xlsx')\n",
    "# novos_casos['rs'] = novos_casos['rs'].apply(lambda x: normalize.normalize_number(x,fill='99'))\n",
    "# novos_casos['rs'] = novos_casos['rs'].apply(lambda x: str(x).zfill(2) if x != 99 else None)\n",
    "\n",
    "# novos_obitos = pd.read_excel('novos_obitos.xlsx')\n",
    "# novos_obitos['rs'] = novos_obitos['rs'].apply(lambda x: normalize.normalize_number(x,fill='99'))\n",
    "# novos_obitos['rs'] = novos_obitos['rs'].apply(lambda x: str(x).zfill(2) if x != 99 else None)"
   ]
  },
  {
   "cell_type": "code",
   "execution_count": 11,
   "metadata": {},
   "outputs": [
    {
     "name": "stdout",
     "output_type": "stream",
     "text": [
      "Casos confirmados excluidos: 0\n",
      "Total de casos: 269258 + 3726\n",
      "Obitos confirmados excluidos: 6\n",
      "Total de obitos: 6043 + 35\n",
      "\n",
      "\n",
      "Total de casos PR: 266639 + 3710\n",
      "Total de obitos PR: 5989 + 34\n",
      "Total de casos Fora: 2619 + 16\n",
      "Total de obitos Fora: 54 + 1\n",
      "\n",
      "relatorio:\n",
      "\n",
      "3.710 novos casos residentes divulgados e 16 não residentes no PR. Sendo:\n",
      "Em 27/11/2020: 1923 novos casos confirmados.\n",
      "1787 casos retroativos confirmados do período de 23/04/2020 à 25/11/2020.\n",
      "270.349 casos confirmados residentes do PR.\n",
      "272.984 total geral.\n",
      "\n",
      "34 Óbitos residentes do PR:\n",
      "1 APUCARANA\n",
      "1 ARAPONGAS\n",
      "1 CAMPO MOURAO\n",
      "1 CARAMBEI\n",
      "1 CASCAVEL\n",
      "1 CORNELIO PROCOPIO\n",
      "1 CRUZEIRO DO OESTE\n",
      "5 CURITIBA\n",
      "1 ENEAS MARQUES\n",
      "2 FAZENDA RIO GRANDE\n",
      "3 FOZ DO IGUACU\n",
      "1 ITAPEJARA D'OESTE\n",
      "1 LOANDA\n",
      "3 LONDRINA\n",
      "1 MANGUEIRINHA\n",
      "2 MARECHAL CANDIDO RONDON\n",
      "4 MARINGA\n",
      "1 PEROLA\n",
      "1 PONTAL DO PARANA\n",
      "1 SAO JOSE DOS PINHAIS\n",
      "1 SAO MIGUEL DO IGUACU\n",
      "1 Óbito não residente do PR.\n",
      "\n",
      "6.023 óbitos residentes do PR.\n",
      "6.078 total geral.\n",
      "\n",
      "F\t93\tSAO MIGUEL DO IGUACU\t09\t26/nov\n",
      "F\t52\tFAZENDA RIO GRANDE\t02\t26/nov\n",
      "F\t75\tCURITIBA\t02\t26/nov\n",
      "M\t79\tCARAMBEI\t03\t21/nov\n",
      "F\t84\tCAMARGO - Fora\t\t24/nov\n",
      "F\t90\tSAO JOSE DOS PINHAIS\t02\t26/nov\n",
      "M\t69\tCORNELIO PROCOPIO\t18\t27/nov\n",
      "M\t94\tFOZ DO IGUACU\t09\t25/nov\n",
      "F\t62\tPEROLA\t12\t24/nov\n",
      "M\t53\tMANGUEIRINHA\t07\t23/nov\n",
      "F\t67\tPONTAL DO PARANA\t01\t1/nov\n",
      "M\t80\tMARECHAL CANDIDO RONDON\t20\t6/nov\n",
      "F\t79\tENEAS MARQUES\t08\t27/nov\n",
      "F\t84\tFOZ DO IGUACU\t09\t25/nov\n",
      "M\t74\tLOANDA\t14\t26/nov\n",
      "M\t72\tMARECHAL CANDIDO RONDON\t20\t25/nov\n",
      "M\t92\tFOZ DO IGUACU\t09\t24/nov\n",
      "F\t92\tLONDRINA\t17\t6/nov\n",
      "F\t48\tMARINGA\t15\t26/nov\n",
      "F\t86\tMARINGA\t15\t26/nov\n",
      "M\t80\tITAPEJARA D'OESTE\t07\t27/nov\n",
      "M\t62\tCURITIBA\t02\t26/nov\n",
      "M\t59\tFAZENDA RIO GRANDE\t02\t26/nov\n",
      "M\t75\tCASCAVEL\t10\t27/nov\n",
      "M\t55\tCAMPO MOURAO\t11\t26/nov\n",
      "F\t65\tAPUCARANA\t16\t26/nov\n",
      "F\t86\tMARINGA\t15\t25/nov\n",
      "M\t77\tLONDRINA\t17\t5/set\n",
      "F\t63\tMARINGA\t15\t26/nov\n",
      "M\t69\tCRUZEIRO DO OESTE\t12\t26/nov\n",
      "M\t80\tLONDRINA\t17\t29/out\n",
      "M\t74\tARAPONGAS\t16\t14/nov\n",
      "M\t76\tCURITIBA\t02\t20/nov\n",
      "M\t59\tCURITIBA\t02\t21/nov\n",
      "M\t54\tCURITIBA\t02\t21/nov\n",
      "\n",
      "Casos por meses:\n",
      "abril: 1\n",
      "jun: 3\n",
      "jul: 25\n",
      "ago: 15\n",
      "set: 26\n",
      "out: 33\n",
      "nov: 3607\n",
      "\n",
      "Obitos por meses:\n",
      "set: 1\n",
      "out: 1\n",
      "nov: 32\n",
      "\n",
      "23/04/2020\t1\n",
      "17/06/2020\t1\n",
      "22/06/2020\t2\n",
      "04/07/2020\t1\n",
      "08/07/2020\t1\n",
      "09/07/2020\t1\n",
      "16/07/2020\t2\n",
      "17/07/2020\t1\n",
      "20/07/2020\t1\n",
      "22/07/2020\t1\n",
      "24/07/2020\t8\n",
      "25/07/2020\t2\n",
      "28/07/2020\t1\n",
      "29/07/2020\t3\n",
      "30/07/2020\t2\n",
      "31/07/2020\t1\n",
      "04/08/2020\t1\n",
      "07/08/2020\t1\n",
      "08/08/2020\t1\n",
      "10/08/2020\t3\n",
      "13/08/2020\t1\n",
      "14/08/2020\t3\n",
      "18/08/2020\t1\n",
      "24/08/2020\t1\n",
      "25/08/2020\t1\n",
      "28/08/2020\t1\n",
      "31/08/2020\t1\n",
      "06/09/2020\t1\n",
      "11/09/2020\t1\n",
      "14/09/2020\t1\n",
      "17/09/2020\t2\n",
      "20/09/2020\t1\n",
      "24/09/2020\t4\n",
      "25/09/2020\t7\n",
      "28/09/2020\t6\n",
      "30/09/2020\t3\n",
      "01/10/2020\t3\n",
      "02/10/2020\t2\n",
      "05/10/2020\t2\n",
      "06/10/2020\t4\n",
      "08/10/2020\t2\n",
      "09/10/2020\t2\n",
      "13/10/2020\t4\n",
      "19/10/2020\t1\n",
      "20/10/2020\t2\n",
      "21/10/2020\t2\n",
      "23/10/2020\t2\n",
      "24/10/2020\t1\n",
      "26/10/2020\t1\n",
      "29/10/2020\t4\n",
      "30/10/2020\t1\n",
      "04/11/2020\t1\n",
      "05/11/2020\t2\n",
      "06/11/2020\t19\n",
      "07/11/2020\t14\n",
      "08/11/2020\t3\n",
      "09/11/2020\t12\n",
      "10/11/2020\t4\n",
      "11/11/2020\t22\n",
      "12/11/2020\t17\n",
      "13/11/2020\t19\n",
      "14/11/2020\t20\n",
      "15/11/2020\t19\n",
      "16/11/2020\t37\n",
      "17/11/2020\t43\n",
      "18/11/2020\t35\n",
      "19/11/2020\t83\n",
      "20/11/2020\t89\n",
      "21/11/2020\t58\n",
      "22/11/2020\t57\n",
      "23/11/2020\t170\n",
      "24/11/2020\t312\n",
      "25/11/2020\t648\n",
      "26/11/2020\t1451\n",
      "27/11/2020\t472\n",
      "\n"
     ]
    }
   ],
   "source": [
    "casos_confirmados.relatorio(novos_casos, novos_obitos)"
   ]
  }
 ],
 "metadata": {
  "kernelspec": {
   "display_name": "Python 3",
   "language": "python",
   "name": "python3"
  },
  "language_info": {
   "codemirror_mode": {
    "name": "ipython",
    "version": 3
   },
   "file_extension": ".py",
   "mimetype": "text/x-python",
   "name": "python",
   "nbconvert_exporter": "python",
   "pygments_lexer": "ipython3",
   "version": "3.8.5"
  }
 },
 "nbformat": 4,
 "nbformat_minor": 4
}
