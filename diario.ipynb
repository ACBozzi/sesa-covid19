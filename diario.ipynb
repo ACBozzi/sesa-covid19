{
 "cells": [
  {
   "cell_type": "code",
   "execution_count": 1,
   "metadata": {},
   "outputs": [],
   "source": [
    "from sys import exit\n",
    "import pandas as pd\n",
    "from datetime import datetime, timedelta\n",
    "\n",
    "from bulletin.data.notifica import Notifica\n",
    "from bulletin.data.casos_confirmados import CasosConfirmados\n",
    "from bulletin.commom import static, normalize\n",
    "\n",
    "pd.set_option('display.max_columns', None)"
   ]
  },
  {
   "cell_type": "code",
   "execution_count": 2,
   "metadata": {},
   "outputs": [],
   "source": [
    "hoje = datetime.today()\n",
    "ontem = hoje - timedelta(1)\n",
    "anteontem = ontem - timedelta(1)"
   ]
  },
  {
   "cell_type": "code",
   "execution_count": 3,
   "metadata": {},
   "outputs": [
    {
     "name": "stdout",
     "output_type": "stream",
     "text": [
      "saved checksum: d50a6d62138ef381df6ad38d220e480c5fa2606dedad2f67d0d915d5cdd5da80\n",
      "current checksum: d50a6d62138ef381df6ad38d220e480c5fa2606dedad2f67d0d915d5cdd5da80\n",
      "Tudo certo, nenhuma alteração detectada\n",
      "C:\\sesa-covid19\\bulletin\\tmp\\notifica.pkl carregado\n",
      "Atualizando o arquivo C:\\sesa-covid19\\bulletin\\tmp\\notifica.pkl com o C:\\sesa-covid19\\bulletin\\tmp\\notifica.csv...\n",
      "C:\\sesa-covid19\\bulletin\\tmp\\notifica.pkl salvo e C:\\sesa-covid19\\bulletin\\tmp\\notifica_checksum atualizado\n"
     ]
    },
    {
     "data": {
      "text/plain": [
       "(224274, 170903, 4449, 47308, 41)"
      ]
     },
     "execution_count": 3,
     "metadata": {},
     "output_type": "execute_result"
    }
   ],
   "source": [
    "notifica = Notifica()\n",
    "# notifica.update()\n",
    "notifica.shape()"
   ]
  },
  {
   "cell_type": "code",
   "execution_count": 4,
   "metadata": {},
   "outputs": [
    {
     "name": "stdout",
     "output_type": "stream",
     "text": [
      "saved checksum: cf2eb5053846c14f312350e02681c674134406c0a937b5f1e6d8807d88895dbb\n",
      "current checksum: cf2eb5053846c14f312350e02681c674134406c0a937b5f1e6d8807d88895dbb\n",
      "Tudo certo, nenhuma alteração detectada\n",
      "{'casos': 'C:\\\\sesa-covid19\\\\bulletin\\\\tmp\\\\casos.pkl', 'obitos': 'C:\\\\sesa-covid19\\\\bulletin\\\\tmp\\\\obitos.pkl'} carregado\n"
     ]
    },
    {
     "data": {
      "text/plain": [
       "(257440, 5885)"
      ]
     },
     "execution_count": 4,
     "metadata": {},
     "output_type": "execute_result"
    }
   ],
   "source": [
    "casos_confirmados = CasosConfirmados()\n",
    "# casos_confirmados.update()\n",
    "casos_confirmados.shape()"
   ]
  },
  {
   "cell_type": "code",
   "execution_count": 5,
   "metadata": {},
   "outputs": [
    {
     "data": {
      "text/plain": [
       "Index(['ibge_res_pr', 'rs', 'nome', 'idade', 'mun_resid', 'hash', 'hash_less',\n",
       "       'hash_more'],\n",
       "      dtype='object')"
      ]
     },
     "execution_count": 5,
     "metadata": {},
     "output_type": "execute_result"
    }
   ],
   "source": [
    "casos_confirmados.get_casos().columns"
   ]
  },
  {
   "cell_type": "code",
   "execution_count": 6,
   "metadata": {},
   "outputs": [],
   "source": [
    "notifica.filter_date(anteontem)"
   ]
  },
  {
   "cell_type": "code",
   "execution_count": 7,
   "metadata": {},
   "outputs": [],
   "source": [
    "notifica_novos_casos = notifica.get_casos()"
   ]
  },
  {
   "cell_type": "code",
   "execution_count": 8,
   "metadata": {},
   "outputs": [],
   "source": [
    "notifica_novos_obitos = notifica.get_obitos()"
   ]
  },
  {
   "cell_type": "code",
   "execution_count": 9,
   "metadata": {},
   "outputs": [
    {
     "name": "stdout",
     "output_type": "stream",
     "text": [
      "casos novos: 7617\n",
      "casos novos duplicados: 11\n",
      "casos novos sem diagnóstico: 0\n",
      "casos novos sem laboratório: 106\n",
      "casos novos sem sexo: 0\n",
      "casos novos validos: 7606\n",
      "casos já em casos com a mesma idade: 3912\n",
      "casos já em casos com a idade - 1: 115\n",
      "casos já em casos com a idade + 1: 1\n",
      "dentre os quais 2 são casos em comum, o que leva a crer que estão duplicados na planilha já com idade a mais ou idade a menos\n",
      "sendo assim, 4026 casos que já se encontram na planilha serão removidos\n",
      "então, de 7606 casos baixados hoje  3580 serão adicionados\n"
     ]
    }
   ],
   "source": [
    "novos_casos = casos_confirmados.novos_casos(notifica_novos_casos)"
   ]
  },
  {
   "cell_type": "code",
   "execution_count": 10,
   "metadata": {},
   "outputs": [
    {
     "name": "stdout",
     "output_type": "stream",
     "text": [
      "obitos novos: 67\n",
      "obitos novos duplicados: 5\n",
      "obitos novos sem duplicados: 62\n",
      "obitos já em obitos com a mesma idade: 24\n",
      "obitos já em obitos com a idade - 1: 0\n",
      "obitos já em obitos com a idade + 1: 0\n",
      "dentre os quais 0 são obitos em comum, o que leva a crer que estão duplicados na planilha já com idade a mais ou idade a menos\n",
      "sendo assim, 24 obitos que já se encontram na planilha serão removidos\n",
      "então, de 62 obitos baixados hoje  38 serão adicionados\n",
      "obitos que estão nos casos 27\n",
      "obitos que estão nos casos novos9\n",
      "obitos que estão nos casos porém com um ano a menos 2\n",
      "obitos que estão nos casos porém com um ano a mais 0\n"
     ]
    }
   ],
   "source": [
    "novos_obitos = casos_confirmados.novos_obitos(novos_casos, notifica_novos_obitos)"
   ]
  },
  {
   "cell_type": "code",
   "execution_count": 11,
   "metadata": {},
   "outputs": [
    {
     "name": "stdout",
     "output_type": "stream",
     "text": [
      "Casos confirmados excluidos: 2\n",
      "Total de casos anterior: 257438\n",
      "Total de novos casos: 3580\n",
      "Obitos confirmados excluidos: 6\n",
      "Total de obitos anterior: 5879\n",
      "Total de novos obitos: 38\n",
      "\n",
      "\n",
      "relatorio:\n",
      "\n",
      "3.552 novos casos residentes divulgadose 28 não residentes no PR. Sendo:\n",
      "Em 24/11/2020: 1798 novos casos novos confirmados.\n",
      "1754 casos retroativos confirmados do período de 09/06/2020 à 22/11/2020.\n",
      "258.434 casos confirmados residentes do PR.\n",
      "261.018 total geral.\n",
      "\n",
      "38 Óbitos residentes do PR:\n",
      "1 ANGULO\n",
      "1 ANTONINA\n",
      "3 ARAUCARIA\n",
      "1 CAFELANDIA\n",
      "3 CAMPO MOURAO\n",
      "1 CASCAVEL\n",
      "3 COLOMBO\n",
      "3 CURITIBA\n",
      "1 FAZENDA RIO GRANDE\n",
      "1 FOZ DO IGUACU\n",
      "2 FRANCISCO BELTRAO\n",
      "2 GUARAPUAVA\n",
      "1 IBAITI\n",
      "1 ITAMBE\n",
      "1 LEOPOLIS\n",
      "1 MARINGA\n",
      "1 PARANAGUA\n",
      "1 PARANAVAI\n",
      "1 PEABIRU\n",
      "1 PINHALAO\n",
      "2 PONTA GROSSA\n",
      "1 SAO JOAO DO TRIUNFO\n",
      "3 SAO JOSE DOS PINHAIS\n",
      "1 SARANDI\n",
      "1 TIJUCAS DO SUL\n",
      "5.871 óbitos residentes do PR.\n",
      "5.917 total geral.\n",
      "\n",
      "M 69 PARANAVAI 14 21/nov\n",
      "M 48 CAMPO MOURAO 11 23/nov\n",
      "F 64 CAMPO MOURAO 11 23/nov\n",
      "M 76 PARANAGUA 01 9/nov\n",
      "M 73 CAMPO MOURAO 11 9/nov\n",
      "F 67 PONTA GROSSA 03 22/nov\n",
      "M 78 FRANCISCO BELTRAO 08 22/nov\n",
      "F 78 TIJUCAS DO SUL 02 22/nov\n",
      "M 49 ANTONINA 01 2/nov\n",
      "F 81 PEABIRU 11 17/nov\n",
      "M 90 CURITIBA 02 23/nov\n",
      "M 65 SAO JOAO DO TRIUNFO 03 23/nov\n",
      "F 92 CASCAVEL 10 23/nov\n",
      "M 82 COLOMBO 02 23/nov\n",
      "F 88 COLOMBO 02 23/nov\n",
      "F 82 ITAMBE 15 15/nov\n",
      "M 83 CAFELANDIA 10 29/out\n",
      "M 60 SAO JOSE DOS PINHAIS 02 23/nov\n",
      "M 53 CURITIBA 02 24/nov\n",
      "M 79 SARANDI 15 20/nov\n",
      "M 83 LEOPOLIS 18 21/nov\n",
      "F 81 ANGULO 15 23/nov\n",
      "F 84 MARINGA 15 20/nov\n",
      "F 79 FAZENDA RIO GRANDE 02 22/nov\n",
      "F 78 FRANCISCO BELTRAO 08 11/nov\n",
      "F 58 GUARAPUAVA 05 24/nov\n",
      "M 59 ARAUCARIA 02 22/nov\n",
      "F 79 SAO JOSE DOS PINHAIS 02 23/nov\n",
      "F 68 CURITIBA 02 23/nov\n",
      "M 55 ARAUCARIA 02 3/out\n",
      "M 69 GUARAPUAVA 05 24/nov\n",
      "F 73 FOZ DO IGUACU 09 23/nov\n",
      "M 79 IBAITI 19 23/nov\n",
      "M 80 PINHALAO 19 24/nov\n",
      "F 63 COLOMBO 02 23/nov\n",
      "M 84 ARAUCARIA 02 23/nov\n",
      "M 62 SAO JOSE DOS PINHAIS 02 22/nov\n",
      "M 90 PONTA GROSSA 03 22/nov\n",
      "\n",
      "jun: 4\n",
      "jul: 7\n",
      "ago: 7\n",
      "set: 13\n",
      "out: 40\n",
      "nov: 3481\n",
      "\n",
      "09/06/2020: 1\n",
      "15/06/2020: 2\n",
      "21/06/2020: 1\n",
      "02/07/2020: 2\n",
      "08/07/2020: 1\n",
      "10/07/2020: 1\n",
      "14/07/2020: 1\n",
      "15/07/2020: 1\n",
      "31/07/2020: 1\n",
      "05/08/2020: 1\n",
      "09/08/2020: 1\n",
      "13/08/2020: 2\n",
      "21/08/2020: 1\n",
      "27/08/2020: 1\n",
      "28/08/2020: 1\n",
      "03/09/2020: 1\n",
      "04/09/2020: 1\n",
      "05/09/2020: 1\n",
      "16/09/2020: 1\n",
      "17/09/2020: 1\n",
      "19/09/2020: 1\n",
      "21/09/2020: 3\n",
      "27/09/2020: 1\n",
      "30/09/2020: 3\n",
      "02/10/2020: 1\n",
      "07/10/2020: 1\n",
      "08/10/2020: 1\n",
      "09/10/2020: 1\n",
      "13/10/2020: 1\n",
      "14/10/2020: 2\n",
      "15/10/2020: 5\n",
      "16/10/2020: 4\n",
      "17/10/2020: 1\n",
      "18/10/2020: 1\n",
      "20/10/2020: 2\n",
      "21/10/2020: 3\n",
      "23/10/2020: 1\n",
      "24/10/2020: 1\n",
      "25/10/2020: 1\n",
      "26/10/2020: 4\n",
      "27/10/2020: 3\n",
      "28/10/2020: 1\n",
      "29/10/2020: 1\n",
      "30/10/2020: 2\n",
      "31/10/2020: 3\n",
      "01/11/2020: 3\n",
      "02/11/2020: 1\n",
      "03/11/2020: 7\n",
      "04/11/2020: 4\n",
      "05/11/2020: 4\n",
      "06/11/2020: 3\n",
      "07/11/2020: 11\n",
      "08/11/2020: 6\n",
      "09/11/2020: 1\n",
      "10/11/2020: 10\n",
      "11/11/2020: 36\n",
      "12/11/2020: 32\n",
      "13/11/2020: 51\n",
      "14/11/2020: 37\n",
      "15/11/2020: 41\n",
      "16/11/2020: 36\n",
      "17/11/2020: 114\n",
      "18/11/2020: 134\n",
      "19/11/2020: 176\n",
      "20/11/2020: 323\n",
      "21/11/2020: 318\n",
      "22/11/2020: 335\n",
      "23/11/2020: 1357\n",
      "24/11/2020: 441\n",
      "\n"
     ]
    }
   ],
   "source": [
    "casos_confirmados.relatorio(novos_casos, novos_obitos)"
   ]
  },
  {
   "cell_type": "code",
   "execution_count": null,
   "metadata": {},
   "outputs": [],
   "source": []
  }
 ],
 "metadata": {
  "kernelspec": {
   "display_name": "Python 3",
   "language": "python",
   "name": "python3"
  },
  "language_info": {
   "codemirror_mode": {
    "name": "ipython",
    "version": 3
   },
   "file_extension": ".py",
   "mimetype": "text/x-python",
   "name": "python",
   "nbconvert_exporter": "python",
   "pygments_lexer": "ipython3",
   "version": "3.8.6"
  }
 },
 "nbformat": 4,
 "nbformat_minor": 4
}
