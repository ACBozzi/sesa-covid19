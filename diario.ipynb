{
 "cells": [
  {
   "cell_type": "code",
   "execution_count": 1,
   "metadata": {},
   "outputs": [],
   "source": [
    "from sys import exit\n",
    "import pandas as pd\n",
    "from datetime import datetime, timedelta\n",
    "\n",
    "from bulletin.data.notifica import Notifica\n",
    "from bulletin.data.casos_confirmados import CasosConfirmados\n",
    "from bulletin.commom import static, normalize\n",
    "\n",
    "pd.set_option('display.max_columns', None)"
   ]
  },
  {
   "cell_type": "code",
   "execution_count": 2,
   "metadata": {},
   "outputs": [],
   "source": [
    "hoje = datetime.today()\n",
    "ontem = hoje - timedelta(1)\n",
    "anteontem = ontem - timedelta(1)"
   ]
  },
  {
   "cell_type": "code",
   "execution_count": 3,
   "metadata": {},
   "outputs": [
    {
     "name": "stdout",
     "output_type": "stream",
     "text": [
      "saved checksum: 859b34d44cfcdbfd7e4c8c3cf906388486cd3f81b8c4a89f5419fd02e9cbdd32\n",
      "current checksum: 859b34d44cfcdbfd7e4c8c3cf906388486cd3f81b8c4a89f5419fd02e9cbdd32\n",
      "Tudo certo, nenhuma alteração detectada\n",
      "C:\\sesa-covid19\\bulletin\\tmp\\notifica.pkl carregado\n"
     ]
    },
    {
     "data": {
      "text/plain": [
       "(232069, 174683, 4561, 51128, 42)"
      ]
     },
     "execution_count": 3,
     "metadata": {},
     "output_type": "execute_result"
    }
   ],
   "source": [
    "notifica = Notifica()\n",
    "# notifica.update()\n",
    "notifica.shape()"
   ]
  },
  {
   "cell_type": "code",
   "execution_count": 4,
   "metadata": {},
   "outputs": [
    {
     "name": "stdout",
     "output_type": "stream",
     "text": [
      "saved checksum: 59322477bb439208e1715468ca76b87a29b87756f70b64076e94ce95c0a719c4\n",
      "current checksum: 59322477bb439208e1715468ca76b87a29b87756f70b64076e94ce95c0a719c4\n",
      "Tudo certo, nenhuma alteração detectada\n",
      "{'casos': 'C:\\\\sesa-covid19\\\\bulletin\\\\tmp\\\\casos.pkl', 'obitos': 'C:\\\\sesa-covid19\\\\bulletin\\\\tmp\\\\obitos.pkl'} carregado\n"
     ]
    },
    {
     "data": {
      "text/plain": [
       "(264838, 5984)"
      ]
     },
     "execution_count": 4,
     "metadata": {},
     "output_type": "execute_result"
    }
   ],
   "source": [
    "casos_confirmados = CasosConfirmados()\n",
    "# casos_confirmados.update()\n",
    "casos_confirmados.shape()"
   ]
  },
  {
   "cell_type": "code",
   "execution_count": 5,
   "metadata": {},
   "outputs": [],
   "source": [
    "notifica.filter_date(anteontem)"
   ]
  },
  {
   "cell_type": "code",
   "execution_count": 6,
   "metadata": {},
   "outputs": [],
   "source": [
    "notifica_novos_casos = notifica.get_casos()"
   ]
  },
  {
   "cell_type": "code",
   "execution_count": 7,
   "metadata": {},
   "outputs": [],
   "source": [
    "notifica_novos_obitos = notifica.get_obitos()"
   ]
  },
  {
   "cell_type": "code",
   "execution_count": 8,
   "metadata": {},
   "outputs": [
    {
     "name": "stdout",
     "output_type": "stream",
     "text": [
      "casos novos: 7972\n",
      "casos novos duplicados: 32\n",
      "casos novos sem diagnóstico: 0\n",
      "casos novos sem laboratório: 99\n",
      "casos novos sem sexo: 1\n",
      "casos novos validos: 7940\n",
      "casos já em casos com a mesma idade: 3432\n",
      "casos já em casos com a idade - 1: 95\n",
      "casos já em casos com a idade + 1: 1\n",
      "dentre os quais 8 são casos em comum, o que leva a crer que estão duplicados na planilha já com idade a mais ou idade a menos\n",
      "sendo assim, 3520 casos que já se encontram na planilha serão removidos\n",
      "\n",
      "então, de 7940 casos baixados hoje  4420 serão adicionados\n",
      "\n"
     ]
    }
   ],
   "source": [
    "novos_casos = casos_confirmados.novos_casos(notifica_novos_casos)"
   ]
  },
  {
   "cell_type": "code",
   "execution_count": 9,
   "metadata": {},
   "outputs": [
    {
     "name": "stdout",
     "output_type": "stream",
     "text": [
      "obitos novos notifica 161 + 6 curitiba\n",
      "\n",
      "obitos novos duplicados: 26\n",
      "obitos já em obitos com a mesma idade: 61\n",
      "obitos já em obitos com a idade - 1: 15\n",
      "obitos já em obitos com a idade + 1: 0\n",
      "obitos que estão nos casos porém com um ano a menos 18\n",
      "obitos que estão nos casos porém com um ano a mais 0\n",
      "obitos que não estão nos casos 0\n",
      "sendo assim, 102 obitos que já se encontram na planilha serão removidos\n",
      "\n",
      "então, de 161 obitos baixados hoje + 6 inseridos de Curitiba, 65 serão adicionados\n",
      "\n"
     ]
    }
   ],
   "source": [
    "novos_obitos = casos_confirmados.novos_obitos(novos_casos, notifica_novos_obitos)"
   ]
  },
  {
   "cell_type": "code",
   "execution_count": 10,
   "metadata": {},
   "outputs": [],
   "source": [
    "novos_casos = pd.read_excel('novos_casos.xlsx')\n",
    "novos_casos['rs'] = novos_casos['rs'].apply(lambda x: normalize.normalize_number(x,fill='99'))\n",
    "novos_casos['rs'] = novos_casos['rs'].apply(lambda x: str(x).zfill(2) if x != 99 else None)\n",
    "\n",
    "novos_obitos = pd.read_excel('novos_obitos.xlsx')\n",
    "novos_obitos['rs'] = novos_obitos['rs'].apply(lambda x: normalize.normalize_number(x,fill='99'))\n",
    "novos_obitos['rs'] = novos_obitos['rs'].apply(lambda x: str(x).zfill(2) if x != 99 else None)"
   ]
  },
  {
   "cell_type": "code",
   "execution_count": 11,
   "metadata": {},
   "outputs": [
    {
     "name": "stdout",
     "output_type": "stream",
     "text": [
      "Casos confirmados excluidos: 0\n",
      "Total de casos: 264838 + 4420\n",
      "Obitos confirmados excluidos: 6\n",
      "Total de obitos: 5978 + 65\n",
      "\n",
      "\n",
      "Total de casos PR: 262235 + 4404\n",
      "Total de obitos PR: 5925 + 64\n",
      "Total de casos Fora: 2603 + 16\n",
      "Total de obitos Fora: 53 + 1\n",
      "\n",
      "relatorio:\n",
      "\n",
      "4.404 novos casos residentes divulgados e 16 não residentes no PR. Sendo:\n",
      "Em 26/11/2020: 2347 novos casos confirmados.\n",
      "2057 casos retroativos confirmados do período de 05/04/2020 à 24/11/2020.\n",
      "266.639 casos confirmados residentes do PR.\n",
      "269.258 total geral.\n",
      "\n",
      "64 Óbitos residentes do PR:\n",
      "1 ARAUCARIA\n",
      "1 CAMBE\n",
      "1 CAMPO LARGO\n",
      "1 CAMPO MAGRO\n",
      "1 CASCAVEL\n",
      "1 CASTRO\n",
      "2 CIANORTE\n",
      "8 CURITIBA\n",
      "1 DOIS VIZINHOS\n",
      "1 FOZ DO IGUACU\n",
      "2 GUARAPUAVA\n",
      "1 ITAPEJARA D'OESTE\n",
      "28 LONDRINA\n",
      "1 MARILANDIA DO SUL\n",
      "2 MARINGA\n",
      "2 PARANAGUA\n",
      "1 PATO BRANCO\n",
      "1 PINHAIS\n",
      "2 RIO BRANCO DO SUL\n",
      "1 SANTO ANTONIO DA PLATINA\n",
      "2 SAO JOSE DOS PINHAIS\n",
      "1 SAO MIGUEL DO IGUACU\n",
      "1 UNIAO DA VITORIA\n",
      "1 VENTANIA\n",
      "1 Óbito não residente do PR.\n",
      "\n",
      "5.989 óbitos residentes do PR.\n",
      "6.043 total geral.\n",
      "\n",
      "M\t85\tCAMPO LARGO\t02\t22/nov\n",
      "F\t79\tUNIAO DA VITORIA\t06\t25/nov\n",
      "F\t59\tCASTRO\t03\t24/set\n",
      "M\t74\tRIO BRANCO DO SUL\t02\t24/nov\n",
      "M\t67\tRIO BRANCO DO SUL\t02\t24/nov\n",
      "M\t66\tMARINGA\t15\t25/nov\n",
      "F\t87\tCAMBE\t17\t23/nov\n",
      "M\t55\tPARANAGUA\t01\t24/nov\n",
      "M\t71\tITAPEJARA D'OESTE\t07\t20/nov\n",
      "M\t95\tFOZ DO IGUACU\t09\t25/nov\n",
      "M\t77\tLONDRINA\t17\t2/nov\n",
      "F\t81\tLONDRINA\t17\t9/nov\n",
      "M\t87\tLONDRINA\t17\t13/jul\n",
      "F\t56\tLONDRINA\t17\t26/jun\n",
      "M\t48\tLONDRINA\t17\t15/ago\n",
      "F\t53\tPINHAIS\t02\t25/nov\n",
      "F\t57\tARAUCARIA\t02\t25/nov\n",
      "M\t73\tMARINGA\t15\t25/nov\n",
      "M\t65\tCURITIBA\t02\t25/nov\n",
      "F\t67\tLONDRINA\t17\t31/out\n",
      "M\t64\tVENTANIA\t21\t25/nov\n",
      "M\t78\tLONDRINA\t17\t30/out\n",
      "F\t95\tROSEIRA - Fora\t\t7/ago\n",
      "F\t54\tSAO JOSE DOS PINHAIS\t02\t25/nov\n",
      "F\t87\tLONDRINA\t17\t5/nov\n",
      "M\t48\tPATO BRANCO\t07\t25/nov\n",
      "M\t90\tLONDRINA\t17\t8/jul\n",
      "M\t85\tLONDRINA\t17\t13/nov\n",
      "M\t68\tLONDRINA\t17\t29/out\n",
      "M\t87\tLONDRINA\t17\t14/nov\n",
      "M\t66\tLONDRINA\t17\t31/out\n",
      "M\t87\tLONDRINA\t17\t29/out\n",
      "M\t82\tDOIS VIZINHOS\t08\t25/nov\n",
      "M\t71\tLONDRINA\t17\t26/out\n",
      "M\t75\tLONDRINA\t17\t23/out\n",
      "F\t66\tLONDRINA\t17\t31/out\n",
      "M\t54\tLONDRINA\t17\t12/nov\n",
      "F\t76\tGUARAPUAVA\t05\t25/nov\n",
      "F\t49\tCIANORTE\t13\t25/nov\n",
      "F\t81\tCIANORTE\t13\t24/nov\n",
      "F\t84\tLONDRINA\t17\t11/nov\n",
      "F\t57\tCURITIBA\t02\t25/nov\n",
      "F\t83\tLONDRINA\t17\t2/nov\n",
      "F\t73\tLONDRINA\t17\t28/out\n",
      "F\t85\tSAO MIGUEL DO IGUACU\t09\t10/out\n",
      "M\t58\tMARILANDIA DO SUL\t16\t25/nov\n",
      "F\t31\tLONDRINA\t17\t3/nov\n",
      "F\t85\tPARANAGUA\t01\t24/nov\n",
      "F\t68\tSANTO ANTONIO DA PLATINA\t19\t26/nov\n",
      "M\t58\tLONDRINA\t17\t2/nov\n",
      "M\t57\tCASCAVEL\t10\t22/ago\n",
      "F\t93\tLONDRINA\t17\t26/out\n",
      "F\t59\tGUARAPUAVA\t05\t16/nov\n",
      "F\t75\tSAO JOSE DOS PINHAIS\t02\t24/nov\n",
      "M\t52\tLONDRINA\t17\t11/nov\n",
      "M\t77\tLONDRINA\t17\t9/nov\n",
      "M\t84\tLONDRINA\t17\t9/nov\n",
      "F\t81\tLONDRINA\t17\t3/nov\n",
      "M\t69\tCAMPO MAGRO\t02\t24/nov\n",
      "M\t61\tCURITIBA\t02\t20/nov\n",
      "F\t74\tCURITIBA\t02\t20/nov\n",
      "F\t68\tCURITIBA\t02\t23/nov\n",
      "F\t58\tCURITIBA\t02\t22/nov\n",
      "F\t99\tCURITIBA\t02\t23/nov\n",
      "M\t76\tCURITIBA\t02\t21/nov\n",
      "\n",
      "Casos por meses:\n",
      "abril: 2\n",
      "jun: 10\n",
      "jul: 20\n",
      "ago: 7\n",
      "set: 13\n",
      "out: 134\n",
      "nov: 4217\n",
      "dez: 1\n",
      "\n",
      "05/04/2020: 1\n",
      "14/04/2020: 1\n",
      "01/06/2020: 1\n",
      "10/06/2020: 2\n",
      "17/06/2020: 1\n",
      "22/06/2020: 1\n",
      "23/06/2020: 1\n",
      "24/06/2020: 2\n",
      "25/06/2020: 2\n",
      "02/07/2020: 1\n",
      "03/07/2020: 2\n",
      "07/07/2020: 1\n",
      "20/07/2020: 1\n",
      "21/07/2020: 1\n",
      "24/07/2020: 3\n",
      "27/07/2020: 5\n",
      "29/07/2020: 2\n",
      "30/07/2020: 4\n",
      "03/08/2020: 2\n",
      "08/08/2020: 1\n",
      "10/08/2020: 1\n",
      "12/08/2020: 1\n",
      "17/08/2020: 1\n",
      "20/08/2020: 1\n",
      "02/09/2020: 1\n",
      "03/09/2020: 1\n",
      "10/09/2020: 1\n",
      "14/09/2020: 1\n",
      "15/09/2020: 1\n",
      "16/09/2020: 1\n",
      "21/09/2020: 1\n",
      "29/09/2020: 1\n",
      "30/09/2020: 5\n",
      "06/10/2020: 3\n",
      "07/10/2020: 2\n",
      "09/10/2020: 2\n",
      "12/10/2020: 1\n",
      "13/10/2020: 5\n",
      "14/10/2020: 9\n",
      "15/10/2020: 6\n",
      "16/10/2020: 4\n",
      "17/10/2020: 2\n",
      "18/10/2020: 1\n",
      "19/10/2020: 16\n",
      "20/10/2020: 13\n",
      "21/10/2020: 3\n",
      "22/10/2020: 9\n",
      "23/10/2020: 8\n",
      "24/10/2020: 1\n",
      "26/10/2020: 30\n",
      "27/10/2020: 4\n",
      "28/10/2020: 12\n",
      "29/10/2020: 1\n",
      "30/10/2020: 1\n",
      "31/10/2020: 1\n",
      "01/11/2020: 10\n",
      "02/11/2020: 1\n",
      "03/11/2020: 13\n",
      "04/11/2020: 7\n",
      "05/11/2020: 3\n",
      "06/11/2020: 4\n",
      "07/11/2020: 4\n",
      "08/11/2020: 1\n",
      "09/11/2020: 7\n",
      "10/11/2020: 5\n",
      "11/11/2020: 12\n",
      "12/11/2020: 36\n",
      "13/11/2020: 55\n",
      "14/11/2020: 21\n",
      "15/11/2020: 47\n",
      "16/11/2020: 55\n",
      "17/11/2020: 58\n",
      "18/11/2020: 76\n",
      "19/11/2020: 148\n",
      "20/11/2020: 185\n",
      "21/11/2020: 115\n",
      "22/11/2020: 117\n",
      "23/11/2020: 320\n",
      "24/11/2020: 571\n",
      "25/11/2020: 2015\n",
      "26/11/2020: 331\n",
      "21/12/2020: 1\n",
      "Obitos por meses:\n",
      "jun: 1\n",
      "jul: 2\n",
      "ago: 2\n",
      "set: 1\n",
      "out: 11\n",
      "nov: 47\n",
      "\n",
      "\n"
     ]
    }
   ],
   "source": [
    "casos_confirmados.relatorio(novos_casos, novos_obitos)"
   ]
  },
  {
   "cell_type": "code",
   "execution_count": null,
   "metadata": {},
   "outputs": [],
   "source": []
  }
 ],
 "metadata": {
  "kernelspec": {
   "display_name": "Python 3",
   "language": "python",
   "name": "python3"
  },
  "language_info": {
   "codemirror_mode": {
    "name": "ipython",
    "version": 3
   },
   "file_extension": ".py",
   "mimetype": "text/x-python",
   "name": "python",
   "nbconvert_exporter": "python",
   "pygments_lexer": "ipython3",
   "version": "3.8.5"
  }
 },
 "nbformat": 4,
 "nbformat_minor": 4
}
