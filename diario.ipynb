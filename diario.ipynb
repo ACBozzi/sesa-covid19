{
 "cells": [
  {
   "cell_type": "code",
   "execution_count": 1,
   "metadata": {},
   "outputs": [],
   "source": [
    "from sys import exit\n",
    "import pandas as pd\n",
    "from datetime import datetime, timedelta\n",
    "\n",
    "from bulletin.data.notifica import Notifica\n",
    "from bulletin.data.casos_confirmados import CasosConfirmados\n",
    "from bulletin.commom import static, normalize\n",
    "\n",
    "pd.set_option('display.max_columns', None)"
   ]
  },
  {
   "cell_type": "code",
   "execution_count": 2,
   "metadata": {},
   "outputs": [],
   "source": [
    "hoje = datetime.today()\n",
    "ontem = hoje - timedelta(1)\n",
    "anteontem = ontem - timedelta(1)"
   ]
  },
  {
   "cell_type": "code",
   "execution_count": 3,
   "metadata": {},
   "outputs": [
    {
     "name": "stdout",
     "output_type": "stream",
     "text": [
      "saved checksum: ae19a71d97cec455faa3166b4df19b2e167c1a50d4e452bd34db5a6ed6f1ceca\n",
      "current checksum: ae19a71d97cec455faa3166b4df19b2e167c1a50d4e452bd34db5a6ed6f1ceca\n",
      "Tudo certo, nenhuma alteração detectada\n",
      "/C/sesa-covid19/bulletin/tmp/notifica.pkl carregado\n"
     ]
    },
    {
     "data": {
      "text/plain": [
       "(170495, 132651, 4045, 32495, 25)"
      ]
     },
     "execution_count": 3,
     "metadata": {},
     "output_type": "execute_result"
    }
   ],
   "source": [
    "notifica = Notifica()\n",
    "# notifica.update()\n",
    "notifica.shape()"
   ]
  },
  {
   "cell_type": "code",
   "execution_count": null,
   "metadata": {},
   "outputs": [
    {
     "name": "stdout",
     "output_type": "stream",
     "text": [
      "saved checksum: 109498c4840288ffbdf4fad0dc90a4e02665df5ec221ced6967efd2442d93fae\n",
      "current checksum: cf2eb5053846c14f312350e02681c674134406c0a937b5f1e6d8807d88895dbb\n",
      "Parece que o arquivo /C/sesa-covid19/bulletin/tmp/Casos confirmados.xlsx sofreu alterações, considere usar o método update\n",
      "{'casos': '/C/sesa-covid19/bulletin/tmp/casos.pkl', 'obitos': '/C/sesa-covid19/bulletin/tmp/obitos.pkl'} carregado\n",
      "Atualizando o arquivo {'casos': '/C/sesa-covid19/bulletin/tmp/casos.pkl', 'obitos': '/C/sesa-covid19/bulletin/tmp/obitos.pkl'} com o /C/sesa-covid19/bulletin/tmp/Casos confirmados.xlsx...\n"
     ]
    }
   ],
   "source": [
    "casos_confirmados = CasosConfirmados()\n",
    "casos_confirmados.update()\n",
    "casos_confirmados.shape()"
   ]
  },
  {
   "cell_type": "code",
   "execution_count": null,
   "metadata": {},
   "outputs": [],
   "source": [
    "casos = casos_confirmados.get_casos()"
   ]
  },
  {
   "cell_type": "code",
   "execution_count": null,
   "metadata": {},
   "outputs": [],
   "source": [
    "obitos = casos_confirmados.get_obitos()\n",
    "obitos.loc[~obitos['hash'].isin(casos['hash'])]"
   ]
  },
  {
   "cell_type": "code",
   "execution_count": null,
   "metadata": {},
   "outputs": [],
   "source": []
  }
 ],
 "metadata": {
  "kernelspec": {
   "display_name": "Python 3",
   "language": "python",
   "name": "python3"
  },
  "language_info": {
   "codemirror_mode": {
    "name": "ipython",
    "version": 3
   },
   "file_extension": ".py",
   "mimetype": "text/x-python",
   "name": "python",
   "nbconvert_exporter": "python",
   "pygments_lexer": "ipython3",
   "version": "3.8.6"
  }
 },
 "nbformat": 4,
 "nbformat_minor": 4
}
