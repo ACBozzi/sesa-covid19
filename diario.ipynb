{
 "cells": [
  {
   "cell_type": "code",
   "execution_count": 1,
   "metadata": {},
   "outputs": [],
   "source": [
    "from bulletin.data.notifica import Notifica\n",
    "from bulletin.data.casos_confirmados import CasosConfirmados\n",
    "from bulletin.commom import static\n",
    "from sys import exit"
   ]
  },
  {
   "cell_type": "code",
   "execution_count": 2,
   "metadata": {},
   "outputs": [
    {
     "name": "stdout",
     "output_type": "stream",
     "text": [
      "saved checksum: 31718c67a29638d301db5a27f3a5075236e8c9f8bc6454e60cc1d5e904197c51\n",
      "current checksum: 31718c67a29638d301db5a27f3a5075236e8c9f8bc6454e60cc1d5e904197c51\n",
      "Tudo certo, nenhuma alteração detectada\n",
      "/C/sesa-covid19/bulletin/tmp/notifica.pkl carregado\n",
      "Atualizando o arquivo /C/sesa-covid19/bulletin/tmp/notifica.pkl com o /C/sesa-covid19/bulletin/tmp/notifica.csv...\n",
      "/C/sesa-covid19/bulletin/tmp/notifica.pkl salvo e /C/sesa-covid19/bulletin/tmp/notifica_checksum atualizado\n"
     ]
    }
   ],
   "source": [
    "notifica = Notifica()\n",
    "notifica.update()"
   ]
  },
  {
   "cell_type": "code",
   "execution_count": 3,
   "metadata": {},
   "outputs": [
    {
     "name": "stdout",
     "output_type": "stream",
     "text": [
      "saved checksum: fe50c7c2e218c251ca1a452e56bd0e09987e43817cad8afad09ffe054796b889\n",
      "current checksum: fe50c7c2e218c251ca1a452e56bd0e09987e43817cad8afad09ffe054796b889\n",
      "Tudo certo, nenhuma alteração detectada\n",
      "{'casos': '/C/sesa-covid19/bulletin/tmp/casos.pkl', 'obitos': '/C/sesa-covid19/bulletin/tmp/obitos.pkl'} carregado\n",
      "Atualizando o arquivo {'casos': '/C/sesa-covid19/bulletin/tmp/casos.pkl', 'obitos': '/C/sesa-covid19/bulletin/tmp/obitos.pkl'} com o /C/sesa-covid19/bulletin/tmp/Casos confirmados.xlsx...\n",
      "caralho entrei aqui\n",
      "{'casos': '/C/sesa-covid19/bulletin/tmp/casos.pkl', 'obitos': '/C/sesa-covid19/bulletin/tmp/obitos.pkl'} salvo e /C/sesa-covid19/bulletin/tmp/casos_confirmados_checksum atualizado\n"
     ]
    }
   ],
   "source": [
    "casos_confirmados = CasosConfirmados()\n",
    "casos_confirmados.update()"
   ]
  },
  {
   "cell_type": "code",
   "execution_count": 4,
   "metadata": {},
   "outputs": [],
   "source": [
    "# notifica = notifica.sort_values(by='paciente')\n",
    "# print(f\"casos: {notifica.shape[0]}\")\n",
    "# print(f\"casos duplicados: {notifica.loc[notifica.duplicated(subset='hash')].shape[0]}\")\n",
    "# notifica = notifica.drop_duplicates(subset='hash')\n",
    "# print(f\"casos sem duplicados: {notifica.shape[0]}\")"
   ]
  },
  {
   "cell_type": "code",
   "execution_count": 5,
   "metadata": {},
   "outputs": [],
   "source": [
    "# index_casos_duplicados = notifica.loc[notifica['hash'].isin(casos_confirmados['hash'])].index.to_list()\n",
    "# print(f\"casos já em casos com a mesma idade: {len(index_casos_duplicados)}\")\n",
    "# index_casos_duplicados_idade_less = notifica.loc[notifica['hash_less'].isin(casos_confirmados['hash'])].index.to_list()\n",
    "# print(f\"casos já em casos com a idade - 1: {len(index_casos_duplicados_idade_less)}\")\n",
    "# index_casos_duplicados_idade_more = notifica.loc[notifica['hash_more'].isin(casos_confirmados['hash'])].index.to_list()\n",
    "# print(f\"casos já em casos com a idade + 1: {len(index_casos_duplicados_idade_more)}\")\n",
    "# print(f\"dentre os quais {len(set(index_casos_duplicados_idade_more).intersection(index_casos_duplicados)) + len(set(index_casos_duplicados_idade_less).intersection(index_casos_duplicados))} são casos em comum, o que leva a crer que estão duplicados na planilha já com idade a mais ou idade a menos\")\n",
    "# index_duplicados = list(set(index_casos_duplicados + index_casos_duplicados_idade_less + index_casos_duplicados_idade_more))\n",
    "# print(f\"sendo assim, {len(index_duplicados)} casos que já se encontram na planilha serão removidos\")\n",
    "# print(f\"então, de {len(notifica)} casos baixados hoje  {len(notifica)-len(index_duplicados)} serão adicionados\")\n",
    "# notifica = notifica.drop(index=index_duplicados)\n",
    "# notifica.shape"
   ]
  }
 ],
 "metadata": {
  "kernelspec": {
   "display_name": "Python 3",
   "language": "python",
   "name": "python3"
  },
  "language_info": {
   "codemirror_mode": {
    "name": "ipython",
    "version": 3
   },
   "file_extension": ".py",
   "mimetype": "text/x-python",
   "name": "python",
   "nbconvert_exporter": "python",
   "pygments_lexer": "ipython3",
   "version": "3.8.6"
  }
 },
 "nbformat": 4,
 "nbformat_minor": 4
}
