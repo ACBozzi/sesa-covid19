{
 "cells": [
  {
   "cell_type": "code",
   "execution_count": 1,
   "metadata": {},
   "outputs": [],
   "source": [
    "from sys import exit\n",
    "import pandas as pd\n",
    "from datetime import datetime, timedelta\n",
    "\n",
    "from bulletin.data.notifica import Notifica\n",
    "from bulletin.data.casos_confirmados import CasosConfirmados\n",
    "from bulletin.commom import static, normalize\n",
    "\n",
    "pd.set_option('display.max_columns', None)"
   ]
  },
  {
   "cell_type": "code",
   "execution_count": 2,
   "metadata": {},
   "outputs": [],
   "source": [
    "hoje = datetime.today()\n",
    "ontem = hoje - timedelta(1)\n",
    "anteontem = ontem - timedelta(1)"
   ]
  },
  {
   "cell_type": "code",
   "execution_count": 3,
   "metadata": {},
   "outputs": [
    {
     "name": "stdout",
     "output_type": "stream",
     "text": [
      "saved checksum: 6508de8cee75121cd4e7e8757de339f97f4245587ea6fb6f32db2737590aae2c\n",
      "current checksum: 6508de8cee75121cd4e7e8757de339f97f4245587ea6fb6f32db2737590aae2c\n",
      "Tudo certo, nenhuma alteração detectada\n",
      "C:\\sesa-covid19\\bulletin\\tmp\\notifica.pkl carregado\n"
     ]
    },
    {
     "data": {
      "text/plain": [
       "(238397, 177819, 4616, 54239, 43)"
      ]
     },
     "execution_count": 3,
     "metadata": {},
     "output_type": "execute_result"
    }
   ],
   "source": [
    "notifica = Notifica()\n",
    "notifica.update()\n",
    "notifica.shape()"
   ]
  },
  {
   "cell_type": "code",
   "execution_count": 4,
   "metadata": {},
   "outputs": [
    {
     "name": "stdout",
     "output_type": "stream",
     "text": [
      "saved checksum: 3374e8f2bf21abdabd0ddcbe06f3b15a233ec4b76af592444def21ef03c0d090\n",
      "current checksum: 3374e8f2bf21abdabd0ddcbe06f3b15a233ec4b76af592444def21ef03c0d090\n",
      "Tudo certo, nenhuma alteração detectada\n",
      "{'casos': 'C:\\\\sesa-covid19\\\\bulletin\\\\tmp\\\\casos.pkl', 'obitos': 'C:\\\\sesa-covid19\\\\bulletin\\\\tmp\\\\obitos.pkl'} carregado\n"
     ]
    },
    {
     "data": {
      "text/plain": [
       "(272984, 6084)"
      ]
     },
     "execution_count": 4,
     "metadata": {},
     "output_type": "execute_result"
    }
   ],
   "source": [
    "casos_confirmados = CasosConfirmados()\n",
    "# casos_confirmados.update()\n",
    "casos_confirmados.shape()"
   ]
  },
  {
   "cell_type": "code",
   "execution_count": 5,
   "metadata": {},
   "outputs": [],
   "source": [
    "notifica.filter_date(anteontem)"
   ]
  },
  {
   "cell_type": "code",
   "execution_count": 6,
   "metadata": {},
   "outputs": [],
   "source": [
    "notifica_novos_casos = notifica.get_casos()"
   ]
  },
  {
   "cell_type": "code",
   "execution_count": 7,
   "metadata": {},
   "outputs": [],
   "source": [
    "notifica_novos_obitos = notifica.get_obitos()"
   ]
  },
  {
   "cell_type": "code",
   "execution_count": 8,
   "metadata": {},
   "outputs": [
    {
     "name": "stdout",
     "output_type": "stream",
     "text": [
      "casos novos: 5873\n",
      "casos novos duplicados: 3\n",
      "casos novos sem diagnóstico: 0\n",
      "casos novos sem laboratório: 51\n",
      "casos novos sem sexo: 1\n",
      "casos novos validos: 5870\n",
      "casos já em casos com a mesma idade: 2892\n",
      "casos já em casos com a idade - 1: 60\n",
      "casos já em casos com a idade + 1: 0\n",
      "dentre os quais 1 são casos em comum, o que leva a crer que estão duplicados na planilha já com idade a mais ou idade a menos\n",
      "sendo assim, 2951 casos que já se encontram na planilha serão removidos\n",
      "\n",
      "então, de 5870 casos baixados hoje  2919 serão adicionados\n",
      "\n"
     ]
    }
   ],
   "source": [
    "novos_casos = casos_confirmados.novos_casos(notifica_novos_casos)"
   ]
  },
  {
   "cell_type": "code",
   "execution_count": 9,
   "metadata": {},
   "outputs": [
    {
     "name": "stdout",
     "output_type": "stream",
     "text": [
      "obitos novos notifica 61 + 5 curitiba\n",
      "\n",
      "obitos novos duplicados: 2\n",
      "obitos já em obitos com a mesma idade: 34\n",
      "obitos já em obitos com a idade - 1: 2\n",
      "obitos já em obitos com a idade + 1: 0\n",
      "dentre os quais 1 são obitos duplicados com idade diferente\n",
      "obitos que estão nos casos porém com um ano a menos 5\n",
      "obitos que estão nos casos porém com um ano a mais 0\n",
      "obitos que não estão nos casos 1\n",
      "sendo assim, 38 obitos que já se encontram na planilha serão removidos\n",
      "\n",
      "então, de 61 obitos baixados hoje + 5 inseridos de Curitiba, 28 serão adicionados\n",
      "\n"
     ]
    }
   ],
   "source": [
    "novos_obitos = casos_confirmados.novos_obitos(novos_casos, notifica_novos_obitos)"
   ]
  },
  {
   "cell_type": "code",
   "execution_count": 10,
   "metadata": {},
   "outputs": [
    {
     "name": "stdout",
     "output_type": "stream",
     "text": [
      "Casos confirmados excluidos: 0\n",
      "Total de casos: 272984 + 2919\n",
      "Obitos confirmados excluidos: 7\n",
      "Total de obitos: 6077 + 28\n",
      "\n",
      "\n",
      "Total de casos PR: 270349 + 2896\n",
      "Total de obitos PR: 6022 + 28\n",
      "Total de casos Fora: 2635 + 23\n",
      "Total de obitos Fora: 55 + 0\n",
      "\n",
      "relatorio:\n",
      "\n",
      "2.896 novos casos residentes divulgados e 23 não residentes no PR. Sendo:\n",
      "Em 28/11/2020: 1602 novos casos confirmados.\n",
      "1294 casos retroativos confirmados do período de 03/04/2020 à 26/11/2020.\n",
      "273.245 casos confirmados residentes do PR.\n",
      "275.903 total geral.\n",
      "\n",
      "28 Óbitos residentes do PR:\n",
      "1 ARAUCARIA\n",
      "5 CAMPO LARGO\n",
      "1 CARLOPOLIS\n",
      "1 CIANORTE\n",
      "1 COLOMBO\n",
      "1 COLORADO\n",
      "5 CURITIBA\n",
      "2 FOZ DO IGUACU\n",
      "1 PARANAGUA\n",
      "1 PEROLA\n",
      "1 PIRAQUARA\n",
      "1 PONTA GROSSA\n",
      "1 QUEDAS DO IGUACU\n",
      "2 SANTA TEREZINHA DE ITAIPU\n",
      "1 TAMARANA\n",
      "1 TAPIRA\n",
      "1 TERRA ROXA\n",
      "1 TIJUCAS DO SUL\n",
      "\n",
      "6.050 óbitos residentes do PR.\n",
      "6.105 total geral.\n",
      "\n",
      "M\t77\tCAMPO LARGO\t02\t26/nov\n",
      "M\t72\tCAMPO LARGO\t02\t20/nov\n",
      "M\t57\tCARLOPOLIS\t19\t27/nov\n",
      "F\t67\tTAPIRA\t12\t27/nov\n",
      "M\t68\tQUEDAS DO IGUACU\t10\t27/nov\n",
      "M\t50\tPIRAQUARA\t02\t24/nov\n",
      "M\t81\tPEROLA\t12\t23/nov\n",
      "F\t79\tTIJUCAS DO SUL\t02\t26/nov\n",
      "M\t79\tCOLOMBO\t02\t23/nov\n",
      "M\t60\tSANTA TEREZINHA DE ITAIPU\t09\t26/nov\n",
      "F\t64\tSANTA TEREZINHA DE ITAIPU\t09\t27/nov\n",
      "F\t18\tCIANORTE\t13\t26/nov\n",
      "F\t58\tCAMPO LARGO\t02\t23/nov\n",
      "M\t69\tPONTA GROSSA\t03\t26/nov\n",
      "M\t80\tFOZ DO IGUACU\t09\t25/nov\n",
      "M\t90\tPARANAGUA\t01\t19/nov\n",
      "F\t45\tCAMPO LARGO\t02\t27/nov\n",
      "M\t51\tFOZ DO IGUACU\t09\t27/nov\n",
      "F\t92\tCOLORADO\t15\t25/nov\n",
      "M\t57\tTERRA ROXA\t20\t25/out\n",
      "M\t94\tTAMARANA\t17\t22/nov\n",
      "F\t63\tARAUCARIA\t02\t27/nov\n",
      "F\t65\tCAMPO LARGO\t02\t16/nov\n",
      "F\t85\tCURITIBA\t02\t27/nov\n",
      "F\t66\tCURITIBA\t02\t24/nov\n",
      "M\t55\tCURITIBA\t02\t25/nov\n",
      "M\t57\tCURITIBA\t02\t24/nov\n",
      "M\t75\tCURITIBA\t02\t25/nov\n",
      "\n",
      "Casos por meses:\n",
      "abril: 1\n",
      "jun: 2\n",
      "jul: 3\n",
      "ago: 5\n",
      "set: 3\n",
      "out: 7\n",
      "nov: 2875\n",
      "\n",
      "Obitos por meses:\n",
      "out: 1\n",
      "nov: 27\n",
      "\n",
      "03/04/2020\t1\n",
      "16/06/2020\t1\n",
      "21/06/2020\t1\n",
      "14/07/2020\t1\n",
      "17/07/2020\t1\n",
      "30/07/2020\t1\n",
      "07/08/2020\t1\n",
      "10/08/2020\t1\n",
      "16/08/2020\t1\n",
      "17/08/2020\t1\n",
      "25/08/2020\t1\n",
      "02/09/2020\t1\n",
      "03/09/2020\t1\n",
      "04/09/2020\t1\n",
      "19/10/2020\t2\n",
      "22/10/2020\t1\n",
      "28/10/2020\t1\n",
      "29/10/2020\t2\n",
      "30/10/2020\t1\n",
      "02/11/2020\t1\n",
      "03/11/2020\t4\n",
      "04/11/2020\t3\n",
      "06/11/2020\t7\n",
      "07/11/2020\t1\n",
      "08/11/2020\t1\n",
      "09/11/2020\t3\n",
      "10/11/2020\t4\n",
      "11/11/2020\t6\n",
      "12/11/2020\t11\n",
      "13/11/2020\t19\n",
      "14/11/2020\t12\n",
      "15/11/2020\t20\n",
      "16/11/2020\t30\n",
      "17/11/2020\t20\n",
      "18/11/2020\t13\n",
      "19/11/2020\t49\n",
      "20/11/2020\t28\n",
      "21/11/2020\t25\n",
      "22/11/2020\t56\n",
      "23/11/2020\t81\n",
      "24/11/2020\t136\n",
      "25/11/2020\t244\n",
      "26/11/2020\t499\n",
      "27/11/2020\t1419\n",
      "28/11/2020\t182\n",
      "30/11/2020\t1\n",
      "\n"
     ]
    }
   ],
   "source": [
    "casos_confirmados.relatorio(novos_casos, novos_obitos)"
   ]
  }
 ],
 "metadata": {
  "kernelspec": {
   "display_name": "Python 3",
   "language": "python",
   "name": "python3"
  },
  "language_info": {
   "codemirror_mode": {
    "name": "ipython",
    "version": 3
   },
   "file_extension": ".py",
   "mimetype": "text/x-python",
   "name": "python",
   "nbconvert_exporter": "python",
   "pygments_lexer": "ipython3",
   "version": "3.8.5"
  }
 },
 "nbformat": 4,
 "nbformat_minor": 4
}
