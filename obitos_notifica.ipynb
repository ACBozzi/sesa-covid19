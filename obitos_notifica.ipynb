{
 "cells": [
  {
   "cell_type": "code",
   "execution_count": 11,
   "metadata": {},
   "outputs": [],
   "source": [
    "import pandas as pd\n",
    "from unidecode import unidecode\n",
    "from bulletin.data import municipios\n",
    "\n",
    "def normalize_mun(x):\n",
    "    return unidecode(str(x).upper())"
   ]
  },
  {
   "cell_type": "code",
   "execution_count": 2,
   "metadata": {},
   "outputs": [
    {
     "data": {
      "text/plain": [
       "ibge         int64\n",
       "mun_nome    object\n",
       "dtype: object"
      ]
     },
     "execution_count": 2,
     "metadata": {},
     "output_type": "execute_result"
    }
   ],
   "source": [
    "list_mun = municipios.read()\n",
    "list_mun = list_mun[['ibge','mun_nome']]\n",
    "list_mun.dtypes"
   ]
  },
  {
   "cell_type": "code",
   "execution_count": 3,
   "metadata": {},
   "outputs": [
    {
     "data": {
      "text/plain": [
       "id                                int64\n",
       "paciente                         object\n",
       "sexo                             object\n",
       "idade                             int64\n",
       "ibge_residencia                   int64\n",
       "ibge_unidade_notifica             int64\n",
       "exame                            object\n",
       "data_notificacao         datetime64[ns]\n",
       "data_liberacao           datetime64[ns]\n",
       "data_1o_sintomas         datetime64[ns]\n",
       "data_cura_obito          datetime64[ns]\n",
       "dtype: object"
      ]
     },
     "execution_count": 3,
     "metadata": {},
     "output_type": "execute_result"
    }
   ],
   "source": [
    "obitos = pd.read_excel('obitos_notifica.xlsx')\n",
    "obitos['ibge_residencia'] = obitos['ibge_residencia'].fillna(0)\n",
    "obitos['ibge_residencia'] = obitos['ibge_residencia'].apply(int)\n",
    "obitos['ibge_unidade_notifica'] = obitos['ibge_unidade_notifica'].fillna(0)\n",
    "obitos['ibge_unidade_notifica'] = obitos['ibge_unidade_notifica'].apply(int)\n",
    "\n",
    "obitos.dtypes"
   ]
  },
  {
   "cell_type": "code",
   "execution_count": 4,
   "metadata": {},
   "outputs": [],
   "source": [
    "list_mun = list_mun.rename(columns={'ibge':'ibge_residencia', 'mun_nome':'mun_resid'})\n",
    "obitos = pd.merge(left = obitos, right = list_mun, on='ibge_residencia', how='left')"
   ]
  },
  {
   "cell_type": "code",
   "execution_count": 5,
   "metadata": {},
   "outputs": [],
   "source": [
    "list_mun = list_mun.rename(columns={'ibge_residencia':'ibge_unidade_notifica', 'mun_resid':'mun_atend'})\n",
    "obitos = pd.merge(left = obitos, right = list_mun, on='ibge_unidade_notifica', how='left')"
   ]
  },
  {
   "cell_type": "code",
   "execution_count": 6,
   "metadata": {},
   "outputs": [],
   "source": [
    "obitos_mun = obitos[['id','mun_resid','mun_atend']]"
   ]
  },
  {
   "cell_type": "code",
   "execution_count": 7,
   "metadata": {},
   "outputs": [],
   "source": [
    "obitos = pd.read_excel('obitos_notifica_atualizado.xlsx')"
   ]
  },
  {
   "cell_type": "code",
   "execution_count": 8,
   "metadata": {},
   "outputs": [],
   "source": [
    "obitos = pd.merge(left = obitos, right = obitos_mun, on='id', how='left')"
   ]
  },
  {
   "cell_type": "code",
   "execution_count": 15,
   "metadata": {},
   "outputs": [],
   "source": [
    "obitos['rs'] = [\"\"] * len(obitos)\n",
    "obitos['dt_com'] = [\"\"] * len(obitos) \n",
    "obitos = obitos[['paciente','sexo','idade','mun_resid','mun_atend','rs','exame','data_notificacao','data_liberacao','dt_com','data_1o_sintomas','data_cura_obito']]"
   ]
  },
  {
   "cell_type": "code",
   "execution_count": 17,
   "metadata": {},
   "outputs": [],
   "source": [
    "obitos['mun_resid'] = obitos['mun_resid'].apply(normalize_mun)\n",
    "obitos['mun_atend'] = obitos['mun_atend'].apply(normalize_mun)\n",
    "obitos.to_excel('obitos_aaaaaaaaaaaaaaaaaaaaaaaaaaaaaaaa.xlsx', index=False)"
   ]
  },
  {
   "cell_type": "code",
   "execution_count": null,
   "metadata": {},
   "outputs": [],
   "source": []
  }
 ],
 "metadata": {
  "kernelspec": {
   "display_name": "Python 3",
   "language": "python",
   "name": "python3"
  },
  "language_info": {
   "codemirror_mode": {
    "name": "ipython",
    "version": 3
   },
   "file_extension": ".py",
   "mimetype": "text/x-python",
   "name": "python",
   "nbconvert_exporter": "python",
   "pygments_lexer": "ipython3",
   "version": "3.8.3"
  }
 },
 "nbformat": 4,
 "nbformat_minor": 4
}
