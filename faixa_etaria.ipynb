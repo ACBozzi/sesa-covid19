{
 "cells": [
  {
   "cell_type": "code",
   "execution_count": 1,
   "metadata": {},
   "outputs": [],
   "source": [
    "import pandas as pd\n",
    "import numpy as np\n",
    "from datetime import datetime, timedelta\n",
    "from bulletin.commom import static, normalize\n",
    "\n",
    "pd.set_option('display.max_columns', None)"
   ]
  },
  {
   "cell_type": "code",
   "execution_count": 2,
   "metadata": {},
   "outputs": [
    {
     "data": {
      "text/plain": [
       "272984"
      ]
     },
     "execution_count": 2,
     "metadata": {},
     "output_type": "execute_result"
    }
   ],
   "source": [
    "geral = pd.read_csv('INFORME_EPIDEMIOLOGICO_27_11_Geral.csv', sep=';', converters={'IDADE_ORIGINAL': lambda x: normalize.normalize_number(x,fill=0)}, parse_dates=['DATA_DIAGNOSTICO','DATA_OBITO'], date_parser=pd.to_datetime)\n",
    "geral.columns = [ normalize.normalize_labels(x) for x in geral.columns ]\n",
    "geral.shape[0]"
   ]
  },
  {
   "cell_type": "code",
   "execution_count": 3,
   "metadata": {},
   "outputs": [],
   "source": [
    "obitos = geral.loc[ geral['data_obito'].notnull() ].copy()\n",
    "obitos.loc[ obitos['data_obito'] < static.se.loc[static.se['se'] == 42, 'inicio'].to_list()[0], 'se' ] = '11 até 41'\n",
    "obitos.loc[ obitos['data_obito'] > static.se.loc[static.se['se'] == 42, 'fim'].to_list()[0], 'se' ] = '43 até 48'"
   ]
  },
  {
   "cell_type": "code",
   "execution_count": 4,
   "metadata": {},
   "outputs": [],
   "source": [
    "geral.loc[ geral['data_diagnostico'] < static.se.loc[static.se['se'] == 42, 'inicio'].to_list()[0], 'se' ] = '11 até 41'\n",
    "geral.loc[ geral['data_diagnostico'] > static.se.loc[static.se['se'] == 42, 'fim'].to_list()[0], 'se' ] = '43 até 48'"
   ]
  },
  {
   "cell_type": "code",
   "execution_count": 5,
   "metadata": {},
   "outputs": [],
   "source": [
    "faixa_etaria = [10,20,30,40,50,60,70,80,90,100]\n",
    "faixa_etaria_labels = ['0 a 9','10 a 19','20 a 29','30 a 39','40 a 49','50 a 59','60 a 69','70 a 79','80 a 89','90 a 99','100 ou +']\n",
    "faixa_etaria_index = dict(enumerate(faixa_etaria_labels))\n",
    "index_casos = np.digitize(geral['idade_original'], faixa_etaria, right=True)\n",
    "index_obitos = np.digitize(obitos['idade_original'], faixa_etaria, right=True)"
   ]
  },
  {
   "cell_type": "code",
   "execution_count": 6,
   "metadata": {},
   "outputs": [],
   "source": [
    "geral_se_casos = geral.groupby(by=['se',index_casos])[['casos']].count().rename(index=faixa_etaria_index)\n",
    "geral_se_casos.index.names = [ 'se', 'faixa_etaria' ]"
   ]
  },
  {
   "cell_type": "code",
   "execution_count": 7,
   "metadata": {},
   "outputs": [],
   "source": [
    "geral_se_obitos = obitos.groupby(by=['se',index_obitos])[['obitos']].count().rename(index=faixa_etaria_index)\n",
    "geral_se_obitos.index.names = [ 'se', 'faixa_etaria' ]"
   ]
  },
  {
   "cell_type": "code",
   "execution_count": 8,
   "metadata": {},
   "outputs": [],
   "source": [
    "faixa_etaria = geral_se_casos.join(geral_se_obitos).fillna(0)"
   ]
  },
  {
   "cell_type": "code",
   "execution_count": 9,
   "metadata": {},
   "outputs": [],
   "source": [
    "faixa_etaria['obitos'] = faixa_etaria['obitos'].apply(int)"
   ]
  },
  {
   "cell_type": "code",
   "execution_count": 10,
   "metadata": {},
   "outputs": [],
   "source": [
    "faixa_etaria.to_excel('faixa_etaria.xlsx')"
   ]
  }
 ],
 "metadata": {
  "kernelspec": {
   "display_name": "Python 3",
   "language": "python",
   "name": "python3"
  },
  "language_info": {
   "codemirror_mode": {
    "name": "ipython",
    "version": 3
   },
   "file_extension": ".py",
   "mimetype": "text/x-python",
   "name": "python",
   "nbconvert_exporter": "python",
   "pygments_lexer": "ipython3",
   "version": "3.8.5"
  }
 },
 "nbformat": 4,
 "nbformat_minor": 4
}
