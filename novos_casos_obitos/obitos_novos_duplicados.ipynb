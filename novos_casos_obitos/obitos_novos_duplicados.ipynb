{
 "cells": [
  {
   "cell_type": "code",
   "execution_count": 1,
   "metadata": {},
   "outputs": [],
   "source": [
    "import pandas as pd\n",
    "from unidecode import unidecode\n",
    "from sys import exit\n",
    "\n",
    "def trim_overspace(text):\n",
    "\tparts = filter(lambda x: len(x) > 0,text.split(\" \"))\n",
    "\treturn \" \".join(parts)\n",
    "\n",
    "def normalize_text(text):\n",
    "    #.replace(\"'\",\" \") alguns municipios tem ' e as macros maravilhosas do excel vão falhar\n",
    "\tx = str(text).replace(\".\",\"\").replace(\"\\n\",\"\").replace(\",\",\"\").upper()\n",
    "\tx = trim_overspace(x)\n",
    "\tx = unidecode(x)\n",
    "\n",
    "\tif x == 'nan' or len(x) == 0 or x == '0' or x == 'nao_informado':\n",
    "\t\treturn ''\n",
    "\telse:\n",
    "\t\treturn x\n",
    "    \n",
    "def normalize_labels(text):\n",
    "\tx = str(text).replace(\"'\",\" \").replace(\".\",\"\").replace(\"\\n\",\"\").replace(\",\",\"\").lower()\n",
    "\tx = trim_overspace(x).replace(\" \",\"_\")\n",
    "\tx = unidecode(x)\n",
    "\n",
    "\tif x == 'nan' or len(x) == 0 or x == '0' or x == 'nao_informado':\n",
    "\t\treturn ''\n",
    "\telse:\n",
    "\t\treturn x\n",
    "    \n",
    "def normalize_number(num,cast=int,error='fill',fill='0'):\n",
    "\ttry:\n",
    "\t\treturn cast(num)\n",
    "\texcept ValueError:\n",
    "\t\tif error == 'raise':\n",
    "\t\t\traise Exception(ValueError)\n",
    "\t\telif error == 'fill':\n",
    "\t\t\treturn normalize_number(fill,cast,'raise')"
   ]
  },
  {
   "cell_type": "code",
   "execution_count": 2,
   "metadata": {},
   "outputs": [],
   "source": [
    "obitos_raw = pd.read_excel('novos_obitos_raw.xlsx')"
   ]
  },
  {
   "cell_type": "code",
   "execution_count": 3,
   "metadata": {},
   "outputs": [],
   "source": [
    "obitos_raw.columns = [ normalize_labels(x) for x in obitos_raw.columns]\n",
    "obitos_raw['nome_paciente'] = obitos_raw['nome_paciente'].apply(normalize_text)\n",
    "obitos_raw['idade'] = obitos_raw['idade'].apply(int)\n",
    "obitos_raw['municipio_residencia'] = obitos_raw['municipio_residencia'].apply(normalize_text)\n",
    "obitos_raw['municipio_atendimento'] = obitos_raw['municipio_atendimento'].apply(normalize_text)"
   ]
  },
  {
   "cell_type": "code",
   "execution_count": 4,
   "metadata": {},
   "outputs": [
    {
     "data": {
      "text/plain": [
       "data_notificacao          datetime64[ns]\n",
       "id_ficha                           int64\n",
       "nome_paciente                     object\n",
       "sexo                              object\n",
       "idade                              int64\n",
       "municipio_residencia              object\n",
       "municipio_atendimento             object\n",
       "rs                                object\n",
       "exame                             object\n",
       "data_diagnostico          datetime64[ns]\n",
       "data_primeiro_sintomas    datetime64[ns]\n",
       "data_cura_obito           datetime64[ns]\n",
       "dtype: object"
      ]
     },
     "execution_count": 4,
     "metadata": {},
     "output_type": "execute_result"
    }
   ],
   "source": [
    "obitos_raw.dtypes"
   ]
  },
  {
   "cell_type": "code",
   "execution_count": 5,
   "metadata": {},
   "outputs": [],
   "source": [
    "obitos_raw['hash'] = obitos_raw.apply(lambda row: (row['nome_paciente'] + str(row['idade']) + row['municipio_residencia']).replace(\" \",\"\"), axis=1)\n",
    "obitos_raw['hash_less'] = obitos_raw.apply(lambda row: (row['nome_paciente'] + str(row['idade']-1) + row['municipio_residencia']).replace(\" \",\"\"), axis=1)\n",
    "obitos_raw['hash_more'] = obitos_raw.apply(lambda row: (row['nome_paciente'] + str(row['idade']+1) + row['municipio_residencia']).replace(\" \",\"\"), axis=1)"
   ]
  },
  {
   "cell_type": "code",
   "execution_count": 6,
   "metadata": {},
   "outputs": [],
   "source": [
    "obitos_raw = obitos_raw.sort_values(by='nome_paciente')"
   ]
  },
  {
   "cell_type": "code",
   "execution_count": 7,
   "metadata": {},
   "outputs": [
    {
     "name": "stdout",
     "output_type": "stream",
     "text": [
      "obitos novos: 96\n",
      "obitos novos duplicados: 0\n",
      "obitos novos sem duplicados: 96\n"
     ]
    }
   ],
   "source": [
    "print(f\"obitos novos: {obitos_raw.shape[0]}\")\n",
    "print(f\"obitos novos duplicados: {obitos_raw.loc[obitos_raw.duplicated(subset='hash')].shape[0]}\")\n",
    "obitos_raw = obitos_raw.drop_duplicates(subset='hash')\n",
    "print(f\"obitos novos sem duplicados: {obitos_raw.shape[0]}\")"
   ]
  },
  {
   "cell_type": "code",
   "execution_count": 8,
   "metadata": {},
   "outputs": [],
   "source": [
    "obitos_confirmados = pd.read_excel('Casos confirmados PR.xlsx', 'Obitos', usecols='D:I')\n",
    "obitos_confirmados.columns = [ normalize_labels(x) for x in obitos_confirmados.columns]"
   ]
  },
  {
   "cell_type": "code",
   "execution_count": 9,
   "metadata": {},
   "outputs": [
    {
     "data": {
      "text/plain": [
       "nome                     object\n",
       "sexo                     object\n",
       "idade                     int64\n",
       "municipio                object\n",
       "rs                      float64\n",
       "data_do_obito    datetime64[ns]\n",
       "hash                     object\n",
       "dtype: object"
      ]
     },
     "execution_count": 9,
     "metadata": {},
     "output_type": "execute_result"
    }
   ],
   "source": [
    "obitos_confirmados['nome'] = obitos_confirmados['nome'].apply(normalize_text)\n",
    "obitos_confirmados['idade'] = obitos_confirmados['idade'].apply(normalize_number)\n",
    "obitos_confirmados['municipio'] = obitos_confirmados['municipio'].apply(normalize_text)\n",
    "obitos_confirmados['hash'] = obitos_confirmados.apply(lambda row: (row['nome'] + str(row['idade']) + row['municipio']).replace(\" \",\"\"), axis=1)\n",
    "obitos_confirmados.dtypes"
   ]
  },
  {
   "cell_type": "code",
   "execution_count": 10,
   "metadata": {},
   "outputs": [
    {
     "name": "stdout",
     "output_type": "stream",
     "text": [
      "obitos já em obitos com a mesma idade: 54\n",
      "obitos já em obitos com a idade - 1: 8\n",
      "obitos já em obitos com a idade + 1: 0\n",
      "dentre os quais 1 são obitos em comum, o que leva a crer que estão duplicados na planilha já com idade a mais ou idade a menos\n",
      "sendo assim, 61 obitos que já se encontram na planilha serão removidos\n"
     ]
    }
   ],
   "source": [
    "index_obitos_duplicados = obitos_raw.loc[obitos_raw['hash'].isin(obitos_confirmados['hash'])].index.to_list()\n",
    "print(f\"obitos já em obitos com a mesma idade: {len(index_obitos_duplicados)}\")\n",
    "index_obitos_duplicados_idade_less = obitos_raw.loc[obitos_raw['hash_less'].isin(obitos_confirmados['hash'])].index.to_list()\n",
    "print(f\"obitos já em obitos com a idade - 1: {len(index_obitos_duplicados_idade_less)}\")\n",
    "index_obitos_duplicados_idade_more = obitos_raw.loc[obitos_raw['hash_more'].isin(obitos_confirmados['hash'])].index.to_list()\n",
    "print(f\"obitos já em obitos com a idade + 1: {len(index_obitos_duplicados_idade_more)}\")\n",
    "print(f\"dentre os quais {len(set(index_obitos_duplicados_idade_more).intersection(index_obitos_duplicados)) + len(set(index_obitos_duplicados_idade_less).intersection(index_obitos_duplicados))} são obitos em comum, o que leva a crer que estão duplicados na planilha já com idade a mais ou idade a menos\")\n",
    "index_duplicados = list(set(index_obitos_duplicados + index_obitos_duplicados_idade_less + index_obitos_duplicados_idade_more))\n",
    "print(f\"sendo assim, {len(index_duplicados)} obitos que já se encontram na planilha serão removidos\")"
   ]
  },
  {
   "cell_type": "code",
   "execution_count": 11,
   "metadata": {},
   "outputs": [
    {
     "name": "stdout",
     "output_type": "stream",
     "text": [
      "então, de 96 obitos baixados hoje  35 serão adicionados\n"
     ]
    },
    {
     "data": {
      "text/plain": [
       "(35, 15)"
      ]
     },
     "execution_count": 11,
     "metadata": {},
     "output_type": "execute_result"
    }
   ],
   "source": [
    "print(f\"então, de {len(obitos_raw)} obitos baixados hoje  {len(obitos_raw)-len(index_duplicados)} serão adicionados\")\n",
    "obitos_raw = obitos_raw.drop(index=index_duplicados)\n",
    "obitos_raw.shape"
   ]
  },
  {
   "cell_type": "code",
   "execution_count": 12,
   "metadata": {},
   "outputs": [
    {
     "data": {
      "text/plain": [
       "nome                   object\n",
       "sexo                   object\n",
       "idade                   int64\n",
       "mun_resid              object\n",
       "mun_atend              object\n",
       "rs                    float64\n",
       "laboratorio            object\n",
       "dt_diag                object\n",
       "comunicacao    datetime64[ns]\n",
       "is                     object\n",
       "hash                   object\n",
       "dtype: object"
      ]
     },
     "execution_count": 12,
     "metadata": {},
     "output_type": "execute_result"
    }
   ],
   "source": [
    "casos_confirmados = pd.read_excel('Casos confirmados PR.xlsx', 'Casos confirmados', usecols='D:M')\n",
    "casos_confirmados.columns = [ normalize_labels(x) for x in casos_confirmados.columns]\n",
    "casos_confirmados['nome'] = casos_confirmados['nome'].apply(normalize_text)\n",
    "casos_confirmados['idade'] = casos_confirmados['idade'].apply(normalize_number)\n",
    "casos_confirmados['mun_resid'] = casos_confirmados['mun_resid'].apply(normalize_text)\n",
    "casos_confirmados['mun_atend'] = casos_confirmados['mun_atend'].apply(normalize_text)\n",
    "casos_confirmados['hash'] = casos_confirmados.apply(lambda row: (row['nome'] + str(row['idade']) + row['mun_resid']).replace(\" \",\"\"), axis=1)\n",
    "casos_confirmados.dtypes"
   ]
  },
  {
   "cell_type": "code",
   "execution_count": 13,
   "metadata": {},
   "outputs": [
    {
     "name": "stdout",
     "output_type": "stream",
     "text": [
      "obitos que estão nos casos 35\n"
     ]
    }
   ],
   "source": [
    "print(f\"obitos que estão nos casos {obitos_raw.loc[obitos_raw['hash'].isin(casos_confirmados['hash'])].shape[0]}\")"
   ]
  },
  {
   "cell_type": "code",
   "execution_count": 14,
   "metadata": {},
   "outputs": [
    {
     "name": "stdout",
     "output_type": "stream",
     "text": [
      "obitos que estão nos casos porém com um ano a menos 0\n"
     ]
    }
   ],
   "source": [
    "print(f\"obitos que estão nos casos porém com um ano a menos {obitos_raw.loc[obitos_raw['hash_less'].isin(casos_confirmados['hash'])].shape[0]}\")"
   ]
  },
  {
   "cell_type": "code",
   "execution_count": 15,
   "metadata": {},
   "outputs": [
    {
     "name": "stdout",
     "output_type": "stream",
     "text": [
      "obitos que estão nos casos porém com um ano a mais 0\n"
     ]
    }
   ],
   "source": [
    "print(f\"obitos que estão nos casos porém com um ano a mais {obitos_raw.loc[obitos_raw['hash_more'].isin(casos_confirmados['hash'])].shape[0]}\")"
   ]
  },
  {
   "cell_type": "code",
   "execution_count": 16,
   "metadata": {},
   "outputs": [
    {
     "data": {
      "text/plain": [
       "Index(['data_notificacao', 'id_ficha', 'nome_paciente', 'sexo', 'idade',\n",
       "       'municipio_residencia', 'municipio_atendimento', 'rs', 'exame',\n",
       "       'data_diagnostico', 'data_primeiro_sintomas', 'data_cura_obito', 'hash',\n",
       "       'hash_less', 'hash_more'],\n",
       "      dtype='object')"
      ]
     },
     "execution_count": 16,
     "metadata": {},
     "output_type": "execute_result"
    }
   ],
   "source": [
    "obitos_raw.columns"
   ]
  },
  {
   "cell_type": "code",
   "execution_count": 17,
   "metadata": {},
   "outputs": [],
   "source": [
    "obitos_raw['rs'] = [ \"\" ] * len(obitos_raw)\n",
    "novos_obitos = obitos_raw[['nome_paciente','sexo','idade','municipio_residencia', 'rs', 'data_cura_obito']]\n",
    "novos_obitos.to_excel('novos_obitos.xlsx', index=False)"
   ]
  },
  {
   "cell_type": "code",
   "execution_count": null,
   "metadata": {},
   "outputs": [],
   "source": []
  }
 ],
 "metadata": {
  "kernelspec": {
   "display_name": "Python 3",
   "language": "python",
   "name": "python3"
  },
  "language_info": {
   "codemirror_mode": {
    "name": "ipython",
    "version": 3
   },
   "file_extension": ".py",
   "mimetype": "text/x-python",
   "name": "python",
   "nbconvert_exporter": "python",
   "pygments_lexer": "ipython3",
   "version": "3.8.3"
  }
 },
 "nbformat": 4,
 "nbformat_minor": 4
}
