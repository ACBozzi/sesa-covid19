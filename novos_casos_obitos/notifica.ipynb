{
 "cells": [
  {
   "cell_type": "code",
   "execution_count": 1,
   "metadata": {},
   "outputs": [],
   "source": [
    "import pandas as pd\n",
    "from datetime import datetime, timedelta\n",
    "from unidecode import unidecode\n",
    "import utils\n",
    "\n",
    "def trim_overspace(text):\n",
    "\tparts = filter(lambda x: len(x) > 0,text.split(\" \"))\n",
    "\treturn \" \".join(parts)\n",
    "\n",
    "def normalize_text(text):\n",
    "    #.replace(\"'\",\" \") alguns municipios tem ' e as macros maravilhosas do excel vão falhar\n",
    "\tx = str(text).replace(\".\",\"\").replace(\"\\n\",\"\").replace(\",\",\"\").upper()\n",
    "\tx = trim_overspace(x)\n",
    "\tx = unidecode(x)\n",
    "\n",
    "\tif x == 'nan' or len(x) == 0 or x == '0' or x == 'nao_informado':\n",
    "\t\treturn ''\n",
    "\telse:\n",
    "\t\treturn x\n",
    "    \n",
    "def normalize_labels(text):\n",
    "\tx = str(text).replace(\"'\",\" \").replace(\".\",\"\").replace(\"\\n\",\"\").replace(\",\",\"\").lower()\n",
    "\tx = trim_overspace(x).replace(\" \",\"_\")\n",
    "\tx = unidecode(x)\n",
    "\n",
    "\tif x == 'nan' or len(x) == 0 or x == '0' or x == 'nao_informado':\n",
    "\t\treturn ''\n",
    "\telse:\n",
    "\t\treturn x\n",
    "    \n",
    "def normalize_number(num,cast=int,error='fill',fill='0'):\n",
    "\ttry:\n",
    "\t\treturn cast(num)\n",
    "\texcept ValueError:\n",
    "\t\tif error == 'raise':\n",
    "\t\t\traise Exception(ValueError)\n",
    "\t\telif error == 'fill':\n",
    "\t\t\treturn normalize_number(fill,cast,'raise')"
   ]
  },
  {
   "cell_type": "code",
   "execution_count": 2,
   "metadata": {},
   "outputs": [
    {
     "data": {
      "text/plain": [
       "id                                int64\n",
       "data_notificacao         datetime64[ns]\n",
       "updated_at               datetime64[ns]\n",
       "paciente                         object\n",
       "sexo                             object\n",
       "idade                             int64\n",
       "ibge_residencia                   int64\n",
       "ibge_unidade_notifica             int64\n",
       "exame                             int64\n",
       "data_liberacao           datetime64[ns]\n",
       "data_1o_sintomas         datetime64[ns]\n",
       "evolucao                          int64\n",
       "data_cura_obito          datetime64[ns]\n",
       "dtype: object"
      ]
     },
     "execution_count": 2,
     "metadata": {},
     "output_type": "execute_result"
    }
   ],
   "source": [
    "# notifica = pd.read_csv('query.csv', converters={''} parse_dates=['data_notificacao','data_liberacao','data_1o_sintomas','data_cura_obito'], date_parser=lambda x: pd.to_datetime(x,format='%d/%m/%Y'))\n",
    "notifica = pd.read_csv('query.csv',\n",
    "                       converters = {\n",
    "                           'paciente': normalize_text,\n",
    "                           'idade': lambda x: normalize_number(x,fill=-1),\n",
    "                           'ibge_residencia': lambda x: normalize_number(x,fill=-1),\n",
    "                           'ibge_unidade_notifica': lambda x: normalize_number(x,fill=-1),                           \n",
    "                           'exame': lambda x: normalize_number(x,fill=0),\n",
    "                           'evolucao': lambda x: normalize_number(x,fill=3)\n",
    "                       },\n",
    "                       parse_dates = ['data_notificacao','updated_at','data_liberacao','data_1o_sintomas','data_cura_obito'],\n",
    "                       date_parser = lambda x: pd.to_datetime(x, errors='coerce', format='%d/%m/%Y')\n",
    "                      )\n",
    "notifica.dtypes"
   ]
  },
  {
   "cell_type": "code",
   "execution_count": 3,
   "metadata": {},
   "outputs": [],
   "source": [
    "hoje = datetime.today()\n",
    "ontem = hoje - timedelta(1)\n",
    "anteontem = ontem - timedelta(1)"
   ]
  },
  {
   "cell_type": "code",
   "execution_count": 4,
   "metadata": {},
   "outputs": [],
   "source": [
    "municipios = utils.municipios[['ibge','municipio']].copy()\n",
    "municipios['municipio'] = municipios['municipio'].apply(normalize_text)\n",
    "\n",
    "regionais = utils.regionais[['ibge','nu_reg']].copy()\n",
    "regionais = regionais.rename(columns={'ibge':'ibge_residencia','nu_reg':'rs'})\n",
    "\n",
    "exames = utils.termos.loc[utils.termos['tipo']=='exame',['codigo','valor']].copy()\n",
    "exames = exames.rename(columns={'codigo':'exame','valor':'nome_exame'})"
   ]
  },
  {
   "cell_type": "code",
   "execution_count": 5,
   "metadata": {},
   "outputs": [
    {
     "data": {
      "text/plain": [
       "id                                int64\n",
       "data_notificacao         datetime64[ns]\n",
       "updated_at               datetime64[ns]\n",
       "paciente                         object\n",
       "sexo                             object\n",
       "idade                             int64\n",
       "ibge_residencia                   int64\n",
       "ibge_unidade_notifica             int64\n",
       "exame                             int64\n",
       "data_liberacao           datetime64[ns]\n",
       "data_1o_sintomas         datetime64[ns]\n",
       "evolucao                          int64\n",
       "data_cura_obito          datetime64[ns]\n",
       "mun_resid                        object\n",
       "rs                              float64\n",
       "mun_atend                        object\n",
       "nome_exame                       object\n",
       "dtype: object"
      ]
     },
     "execution_count": 5,
     "metadata": {},
     "output_type": "execute_result"
    }
   ],
   "source": [
    "municipios = municipios.rename(columns={'ibge':'ibge_residencia','municipio':'mun_resid'})\n",
    "notifica = pd.merge(left=notifica, right=municipios, how='left', on='ibge_residencia')\n",
    "notifica = pd.merge(left=notifica, right=regionais, how='left', on='ibge_residencia')\n",
    "\n",
    "municipios = municipios.rename(columns={'ibge_residencia':'ibge_unidade_notifica','mun_resid':'mun_atend'})\n",
    "notifica = pd.merge(left=notifica, right=municipios, how='left', on='ibge_unidade_notifica')\n",
    "notifica = pd.merge(left=notifica, right=exames, how='left', on='exame')\n",
    "notifica.dtypes"
   ]
  },
  {
   "cell_type": "code",
   "execution_count": 6,
   "metadata": {},
   "outputs": [
    {
     "data": {
      "text/plain": [
       "(212970, 14)"
      ]
     },
     "execution_count": 6,
     "metadata": {},
     "output_type": "execute_result"
    }
   ],
   "source": [
    "notifica['rs'] = notifica['rs'].apply(lambda x: normalize_number(x,fill='99'))\n",
    "notifica['rs'] = notifica['rs'].apply(lambda x: str(x).zfill(2) if x != 99 else None)\n",
    "notifica = notifica[['id','updated_at','data_notificacao','paciente','sexo','idade','mun_resid','mun_atend','rs','nome_exame','data_liberacao','data_1o_sintomas','evolucao','data_cura_obito']].copy()\n",
    "notifica.shape"
   ]
  },
  {
   "cell_type": "code",
   "execution_count": 7,
   "metadata": {},
   "outputs": [
    {
     "name": "stdout",
     "output_type": "stream",
     "text": [
      "(3622, 14)\n",
      "(67, 14)\n"
     ]
    }
   ],
   "source": [
    "casos_novos_raw = notifica.loc[(notifica['evolucao'] == 3) & ((notifica['updated_at'] >= anteontem) | (notifica['data_liberacao'] >= anteontem) | (notifica['data_notificacao'] >= anteontem))]\n",
    "print(casos_novos_raw.shape)\n",
    "obitos_novos_raw = notifica.loc[(notifica['evolucao'] == 2) & ((notifica['updated_at'] >= anteontem) | (notifica['data_liberacao'] >= anteontem) | (notifica['data_notificacao'] >= anteontem))]\n",
    "print(obitos_novos_raw.shape)"
   ]
  },
  {
   "cell_type": "code",
   "execution_count": 8,
   "metadata": {},
   "outputs": [],
   "source": [
    "casos_novos_raw = casos_novos_raw[['id', 'data_notificacao', 'paciente', 'sexo', 'idade',\n",
    "       'mun_resid', 'mun_atend', 'rs', 'nome_exame', 'data_liberacao',\n",
    "       'data_1o_sintomas']]\n",
    "casos_novos_raw.to_excel('novos_casos_raw.xlsx', index=None)"
   ]
  },
  {
   "cell_type": "code",
   "execution_count": 9,
   "metadata": {},
   "outputs": [],
   "source": [
    "obitos_novos_raw = obitos_novos_raw[['id', 'data_notificacao', 'paciente', 'sexo', 'idade',\n",
    "       'mun_resid', 'mun_atend', 'rs', 'nome_exame', 'data_liberacao',\n",
    "       'data_1o_sintomas','data_cura_obito']]\n",
    "obitos_novos_raw.to_excel('novos_obitos_raw.xlsx', index=None)"
   ]
  },
  {
   "cell_type": "code",
   "execution_count": null,
   "metadata": {},
   "outputs": [],
   "source": []
  }
 ],
 "metadata": {
  "kernelspec": {
   "display_name": "Python 3",
   "language": "python",
   "name": "python3"
  },
  "language_info": {
   "codemirror_mode": {
    "name": "ipython",
    "version": 3
   },
   "file_extension": ".py",
   "mimetype": "text/x-python",
   "name": "python",
   "nbconvert_exporter": "python",
   "pygments_lexer": "ipython3",
   "version": "3.8.3"
  }
 },
 "nbformat": 4,
 "nbformat_minor": 4
}
