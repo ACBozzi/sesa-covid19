{
 "cells": [
  {
   "cell_type": "code",
   "execution_count": 1,
   "metadata": {},
   "outputs": [],
   "source": [
    "import pandas as pd\n",
    "from datetime import datetime\n",
    "from unidecode import unidecode\n",
    "\n",
    "from sys import exit\n",
    "\n",
    "def trim_overspace(text):\n",
    "\tparts = filter(lambda x: len(x) > 0,text.split(\" \"))\n",
    "\treturn \" \".join(parts)\n",
    "\n",
    "def normalize_text(text):\n",
    "    #.replace(\"'\",\" \") alguns municipios tem ' e as macros maravilhosas do excel vão falhar\n",
    "\tx = str(text).replace(\".\",\"\").replace(\"\\n\",\"\").replace(\",\",\"\").upper()\n",
    "\tx = trim_overspace(x)\n",
    "\tx = unidecode(x)\n",
    "\n",
    "\tif x == 'nan' or len(x) == 0 or x == '0' or x == 'nao_informado':\n",
    "\t\treturn ''\n",
    "\telse:\n",
    "\t\treturn x\n",
    "    \n",
    "def normalize_labels(text):\n",
    "\tx = str(text).replace(\"'\",\" \").replace(\".\",\"\").replace(\"\\n\",\"\").replace(\",\",\"\").lower()\n",
    "\tx = trim_overspace(x).replace(\" \",\"_\")\n",
    "\tx = unidecode(x)\n",
    "\n",
    "\tif x == 'nan' or len(x) == 0 or x == '0' or x == 'nao_informado':\n",
    "\t\treturn ''\n",
    "\telse:\n",
    "\t\treturn x\n",
    "    \n",
    "def normalize_number(num,cast=int,error='fill',fill='0'):\n",
    "\ttry:\n",
    "\t\treturn cast(num)\n",
    "\texcept ValueError:\n",
    "\t\tif error == 'raise':\n",
    "\t\t\traise Exception(ValueError)\n",
    "\t\telif error == 'fill':\n",
    "\t\t\treturn normalize_number(fill,cast,'raise')"
   ]
  },
  {
   "cell_type": "code",
   "execution_count": 2,
   "metadata": {},
   "outputs": [],
   "source": [
    "casos_raw = pd.read_excel('novos_casos_raw.xlsx', dtype={'rs':str, 'ibge_residencia':str})"
   ]
  },
  {
   "cell_type": "code",
   "execution_count": 3,
   "metadata": {},
   "outputs": [],
   "source": [
    "casos_raw['hash'] = casos_raw.apply(lambda row: (row['paciente'] + str(row['idade']) + row['mun_resid']).replace(\" \",\"\"), axis=1)\n",
    "casos_raw['hash_less'] = casos_raw.apply(lambda row: (row['paciente'] + str(row['idade']-1) + row['mun_resid']).replace(\" \",\"\"), axis=1)\n",
    "casos_raw['hash_more'] = casos_raw.apply(lambda row: (row['paciente'] + str(row['idade']+1) + row['mun_resid']).replace(\" \",\"\"), axis=1)"
   ]
  },
  {
   "cell_type": "code",
   "execution_count": 4,
   "metadata": {},
   "outputs": [],
   "source": [
    "casos_raw = casos_raw.sort_values(by='paciente')"
   ]
  },
  {
   "cell_type": "code",
   "execution_count": 5,
   "metadata": {},
   "outputs": [],
   "source": [
    "# casos_raw.loc[casos_raw.duplicated(subset='hash', keep=False)]"
   ]
  },
  {
   "cell_type": "code",
   "execution_count": 6,
   "metadata": {},
   "outputs": [
    {
     "name": "stdout",
     "output_type": "stream",
     "text": [
      "casos novos: 2561\n",
      "casos novos duplicados: 0\n",
      "casos novos sem diagnóstico: 599\n",
      "casos novos sem laboratório: 37\n",
      "casos novos sem sexo: 0\n",
      "casos novos validos: 2561\n"
     ]
    }
   ],
   "source": [
    "print(f\"casos novos: {casos_raw.shape[0]}\")\n",
    "print(f\"casos novos duplicados: {casos_raw.loc[casos_raw.duplicated(subset='hash')].shape[0]}\")\n",
    "casos_raw = casos_raw.drop_duplicates(subset='hash')\n",
    "dropar = casos_raw.loc[casos_raw['data_liberacao'].isnull()]\n",
    "print(f\"casos novos sem diagnóstico: {dropar.shape[0]}\")\n",
    "# casos_raw = casos_raw.drop(index=dropar.index)\n",
    "dropar = casos_raw.loc[casos_raw['nome_exame'].isnull()]\n",
    "print(f\"casos novos sem laboratório: {dropar.shape[0]}\")\n",
    "# casos_raw = casos_raw.drop(index=dropar.index)\n",
    "dropar = casos_raw.loc[casos_raw['sexo'].isnull()]\n",
    "print(f\"casos novos sem sexo: {dropar.shape[0]}\")\n",
    "# casos_raw = casos_raw.drop(index=dropar.index)\n",
    "print(f\"casos novos validos: {casos_raw.shape[0]}\")"
   ]
  },
  {
   "cell_type": "code",
   "execution_count": 7,
   "metadata": {},
   "outputs": [],
   "source": [
    "casos_confirmados = pd.read_excel('Casos confirmados PR.xlsx', 'Casos confirmados', usecols='D:M')\n",
    "casos_confirmados.columns = [ normalize_labels(x) for x in casos_confirmados.columns]"
   ]
  },
  {
   "cell_type": "code",
   "execution_count": 8,
   "metadata": {},
   "outputs": [],
   "source": [
    "casos_confirmados['nome'] = casos_confirmados['nome'].apply(normalize_text)\n",
    "casos_confirmados['idade'] = casos_confirmados['idade'].apply(normalize_number)\n",
    "casos_confirmados['mun_resid'] = casos_confirmados['mun_resid'].apply(normalize_text)\n",
    "casos_confirmados['mun_atend'] = casos_confirmados['mun_atend'].apply(normalize_text)\n",
    "casos_confirmados['hash'] = casos_confirmados.apply(lambda row: (row['nome'] + str(row['idade']) + row['mun_resid']).replace(\" \",\"\"), axis=1)"
   ]
  },
  {
   "cell_type": "code",
   "execution_count": 9,
   "metadata": {},
   "outputs": [
    {
     "name": "stdout",
     "output_type": "stream",
     "text": [
      "casos já em casos com a mesma idade: 1334\n",
      "casos já em casos com a idade - 1: 17\n",
      "casos já em casos com a idade + 1: 0\n",
      "dentre os quais 1 são casos em comum, o que leva a crer que estão duplicados na planilha já com idade a mais ou idade a menos\n",
      "sendo assim, 1350 casos que já se encontram na planilha serão removidos\n"
     ]
    }
   ],
   "source": [
    "index_casos_duplicados = casos_raw.loc[casos_raw['hash'].isin(casos_confirmados['hash'])].index.to_list()\n",
    "print(f\"casos já em casos com a mesma idade: {len(index_casos_duplicados)}\")\n",
    "index_casos_duplicados_idade_less = casos_raw.loc[casos_raw['hash_less'].isin(casos_confirmados['hash'])].index.to_list()\n",
    "print(f\"casos já em casos com a idade - 1: {len(index_casos_duplicados_idade_less)}\")\n",
    "index_casos_duplicados_idade_more = casos_raw.loc[casos_raw['hash_more'].isin(casos_confirmados['hash'])].index.to_list()\n",
    "print(f\"casos já em casos com a idade + 1: {len(index_casos_duplicados_idade_more)}\")\n",
    "print(f\"dentre os quais {len(set(index_casos_duplicados_idade_more).intersection(index_casos_duplicados)) + len(set(index_casos_duplicados_idade_less).intersection(index_casos_duplicados))} são casos em comum, o que leva a crer que estão duplicados na planilha já com idade a mais ou idade a menos\")\n",
    "index_duplicados = list(set(index_casos_duplicados + index_casos_duplicados_idade_less + index_casos_duplicados_idade_more))\n",
    "print(f\"sendo assim, {len(index_duplicados)} casos que já se encontram na planilha serão removidos\")"
   ]
  },
  {
   "cell_type": "code",
   "execution_count": 10,
   "metadata": {},
   "outputs": [
    {
     "name": "stdout",
     "output_type": "stream",
     "text": [
      "então, de 2561 casos baixados hoje  1211 serão adicionados\n"
     ]
    }
   ],
   "source": [
    "print(f\"então, de {len(casos_raw)} casos baixados hoje  {len(casos_raw)-len(index_duplicados)} serão adicionados\")\n",
    "casos_raw = casos_raw.drop(index=index_duplicados)"
   ]
  },
  {
   "cell_type": "code",
   "execution_count": 11,
   "metadata": {},
   "outputs": [],
   "source": [
    "casos_raw['data_com'] = [ \"\" ] * len(casos_raw)"
   ]
  },
  {
   "cell_type": "code",
   "execution_count": 12,
   "metadata": {},
   "outputs": [],
   "source": [
    "novos_casos = casos_raw[['paciente','sexo','idade','mun_resid', 'mun_atend', 'rs', 'nome_exame','data_notificacao','data_liberacao','data_com','data_1o_sintomas']]\n",
    "novos_casos.to_excel('novos_casos.xlsx', index=False)"
   ]
  }
 ],
 "metadata": {
  "kernelspec": {
   "display_name": "Python 3",
   "language": "python",
   "name": "python3"
  },
  "language_info": {
   "codemirror_mode": {
    "name": "ipython",
    "version": 3
   },
   "file_extension": ".py",
   "mimetype": "text/x-python",
   "name": "python",
   "nbconvert_exporter": "python",
   "pygments_lexer": "ipython3",
   "version": "3.8.5"
  }
 },
 "nbformat": 4,
 "nbformat_minor": 4
}
