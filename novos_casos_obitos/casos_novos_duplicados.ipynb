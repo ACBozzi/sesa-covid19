{
 "cells": [
  {
   "cell_type": "code",
   "execution_count": 14,
   "metadata": {},
   "outputs": [],
   "source": [
    "import pandas as pd\n",
    "from datetime import datetime\n",
    "from unidecode import unidecode\n",
    "\n",
    "def trim_overspace(text):\n",
    "\tparts = filter(lambda x: len(x) > 0,text.split(\" \"))\n",
    "\treturn \" \".join(parts)\n",
    "\n",
    "def normalize_text(text):\n",
    "    #.replace(\"'\",\" \") alguns municipios tem ' e as macros maravilhosas do excel vão falhar\n",
    "\tx = str(text).replace(\".\",\"\").replace(\"\\n\",\"\").replace(\",\",\"\").upper()\n",
    "\tx = trim_overspace(x)\n",
    "\tx = unidecode(x)\n",
    "\n",
    "\tif x == 'nan' or len(x) == 0 or x == '0' or x == 'nao_informado':\n",
    "\t\treturn ''\n",
    "\telse:\n",
    "\t\treturn x\n",
    "    \n",
    "def normalize_labels(text):\n",
    "\tx = str(text).replace(\"'\",\" \").replace(\".\",\"\").replace(\"\\n\",\"\").replace(\",\",\"\").lower()\n",
    "\tx = trim_overspace(x).replace(\" \",\"_\")\n",
    "\tx = unidecode(x)\n",
    "\n",
    "\tif x == 'nan' or len(x) == 0 or x == '0' or x == 'nao_informado':\n",
    "\t\treturn ''\n",
    "\telse:\n",
    "\t\treturn x\n",
    "    \n",
    "def normalize_number(num,cast=int,error='fill',fill='0'):\n",
    "\ttry:\n",
    "\t\treturn cast(num)\n",
    "\texcept ValueError:\n",
    "\t\tif error == 'raise':\n",
    "\t\t\traise Exception(ValueError)\n",
    "\t\telif error == 'fill':\n",
    "\t\t\treturn normalize_number(fill,cast,'raise')"
   ]
  },
  {
   "cell_type": "code",
   "execution_count": 2,
   "metadata": {},
   "outputs": [],
   "source": [
    "casos_raw = pd.read_excel('novos_casos_raw.xlsx')"
   ]
  },
  {
   "cell_type": "code",
   "execution_count": 3,
   "metadata": {},
   "outputs": [],
   "source": [
    "casos_raw.columns = [ normalize_labels(x) for x in casos_raw.columns]\n",
    "casos_raw['nome_paciente'] = casos_raw['nome_paciente'].apply(normalize_text)\n",
    "casos_raw['idade'] = casos_raw['idade'].apply(int)\n",
    "casos_raw['municipio_residencia'] = casos_raw['municipio_residencia'].apply(normalize_text)\n",
    "casos_raw['municipio_atendimento'] = casos_raw['municipio_atendimento'].apply(normalize_text)"
   ]
  },
  {
   "cell_type": "code",
   "execution_count": 4,
   "metadata": {},
   "outputs": [
    {
     "data": {
      "text/plain": [
       "data_notificacao          datetime64[ns]\n",
       "id_ficha                           int64\n",
       "nome_paciente                     object\n",
       "sexo                              object\n",
       "idade                              int64\n",
       "municipio_residencia              object\n",
       "municipio_atendimento             object\n",
       "rs                                object\n",
       "exame                             object\n",
       "data_diagnostico          datetime64[ns]\n",
       "data_primeiro_sintomas    datetime64[ns]\n",
       "dtype: object"
      ]
     },
     "execution_count": 4,
     "metadata": {},
     "output_type": "execute_result"
    }
   ],
   "source": [
    "casos_raw.dtypes"
   ]
  },
  {
   "cell_type": "code",
   "execution_count": 5,
   "metadata": {},
   "outputs": [],
   "source": [
    "casos_raw['hash'] = casos_raw.apply(lambda row: (row['nome_paciente'] + str(row['idade']) + row['municipio_residencia']).replace(\" \",\"\"), axis=1)\n",
    "casos_raw['hash_less'] = casos_raw.apply(lambda row: (row['nome_paciente'] + str(row['idade']-1) + row['municipio_residencia']).replace(\" \",\"\"), axis=1)\n",
    "casos_raw['hash_more'] = casos_raw.apply(lambda row: (row['nome_paciente'] + str(row['idade']+1) + row['municipio_residencia']).replace(\" \",\"\"), axis=1)"
   ]
  },
  {
   "cell_type": "code",
   "execution_count": 6,
   "metadata": {},
   "outputs": [],
   "source": [
    "casos_raw = casos_raw.sort_values(by='nome_paciente')"
   ]
  },
  {
   "cell_type": "code",
   "execution_count": 7,
   "metadata": {},
   "outputs": [
    {
     "name": "stdout",
     "output_type": "stream",
     "text": [
      "casos novos: 5122\n",
      "casos novos duplicados: 2\n",
      "casos novos sem duplicados: 5120\n"
     ]
    }
   ],
   "source": [
    "print(f\"casos novos: {casos_raw.shape[0]}\")\n",
    "print(f\"casos novos duplicados: {casos_raw.loc[casos_raw.duplicated(subset='hash')].shape[0]}\")\n",
    "casos_raw = casos_raw.drop_duplicates(subset='hash')\n",
    "print(f\"casos novos sem duplicados: {casos_raw.shape[0]}\")"
   ]
  },
  {
   "cell_type": "code",
   "execution_count": 8,
   "metadata": {},
   "outputs": [],
   "source": [
    "casos_confirmados = pd.read_excel('Casos confirmados PR.xlsx', 'Casos confirmados', usecols='D:M')\n",
    "casos_confirmados.columns = [ normalize_labels(x) for x in casos_confirmados.columns]"
   ]
  },
  {
   "cell_type": "code",
   "execution_count": 9,
   "metadata": {},
   "outputs": [
    {
     "data": {
      "text/plain": [
       "nome                   object\n",
       "sexo                   object\n",
       "idade                   int64\n",
       "mun_resid              object\n",
       "mun_atend              object\n",
       "rs                    float64\n",
       "laboratorio            object\n",
       "dt_diag                object\n",
       "comunicacao    datetime64[ns]\n",
       "is                     object\n",
       "hash                   object\n",
       "dtype: object"
      ]
     },
     "execution_count": 9,
     "metadata": {},
     "output_type": "execute_result"
    }
   ],
   "source": [
    "casos_confirmados['nome'] = casos_confirmados['nome'].apply(normalize_text)\n",
    "casos_confirmados['idade'] = casos_confirmados['idade'].apply(normalize_number)\n",
    "casos_confirmados['mun_resid'] = casos_confirmados['mun_resid'].apply(normalize_text)\n",
    "casos_confirmados['mun_atend'] = casos_confirmados['mun_atend'].apply(normalize_text)\n",
    "casos_confirmados['hash'] = casos_confirmados.apply(lambda row: (row['nome'] + str(row['idade']) + row['mun_resid']).replace(\" \",\"\"), axis=1)\n",
    "casos_confirmados.dtypes"
   ]
  },
  {
   "cell_type": "code",
   "execution_count": 10,
   "metadata": {},
   "outputs": [
    {
     "name": "stdout",
     "output_type": "stream",
     "text": [
      "casos já em casos com a mesma idade: 1966\n",
      "casos já em casos com a idade - 1: 114\n",
      "casos já em casos com a idade + 1: 1\n",
      "dentre os quais 15 são casos em comum, o que leva a crer que estão duplicados na planilha já com idade a mais ou idade a menos\n",
      "sendo assim, 2066 casos que já se encontram na planilha serão removidos\n"
     ]
    }
   ],
   "source": [
    "index_casos_duplicados = casos_raw.loc[casos_raw['hash'].isin(casos_confirmados['hash'])].index.to_list()\n",
    "print(f\"casos já em casos com a mesma idade: {len(index_casos_duplicados)}\")\n",
    "index_casos_duplicados_idade_less = casos_raw.loc[casos_raw['hash_less'].isin(casos_confirmados['hash'])].index.to_list()\n",
    "print(f\"casos já em casos com a idade - 1: {len(index_casos_duplicados_idade_less)}\")\n",
    "index_casos_duplicados_idade_more = casos_raw.loc[casos_raw['hash_more'].isin(casos_confirmados['hash'])].index.to_list()\n",
    "print(f\"casos já em casos com a idade + 1: {len(index_casos_duplicados_idade_more)}\")\n",
    "print(f\"dentre os quais {len(set(index_casos_duplicados_idade_more).intersection(index_casos_duplicados)) + len(set(index_casos_duplicados_idade_less).intersection(index_casos_duplicados))} são casos em comum, o que leva a crer que estão duplicados na planilha já com idade a mais ou idade a menos\")\n",
    "index_duplicados = list(set(index_casos_duplicados + index_casos_duplicados_idade_less + index_casos_duplicados_idade_more))\n",
    "print(f\"sendo assim, {len(index_duplicados)} casos que já se encontram na planilha serão removidos\")"
   ]
  },
  {
   "cell_type": "code",
   "execution_count": 11,
   "metadata": {},
   "outputs": [
    {
     "name": "stdout",
     "output_type": "stream",
     "text": [
      "então, de 5120 casos baixados hoje  3054 serão adicionados\n"
     ]
    },
    {
     "data": {
      "text/plain": [
       "(3054, 14)"
      ]
     },
     "execution_count": 11,
     "metadata": {},
     "output_type": "execute_result"
    }
   ],
   "source": [
    "print(f\"então, de {len(casos_raw)} casos baixados hoje  {len(casos_raw)-len(index_duplicados)} serão adicionados\")\n",
    "casos_raw = casos_raw.drop(index=index_duplicados)\n",
    "casos_raw.shape"
   ]
  },
  {
   "cell_type": "code",
   "execution_count": 30,
   "metadata": {},
   "outputs": [
    {
     "data": {
      "text/plain": [
       "Index(['data_notificacao', 'id_ficha', 'nome_paciente', 'sexo', 'idade',\n",
       "       'municipio_residencia', 'municipio_atendimento', 'rs', 'exame',\n",
       "       'data_diagnostico', 'data_primeiro_sintomas', 'hash', 'hash_less',\n",
       "       'hash_more', 'data_com'],\n",
       "      dtype='object')"
      ]
     },
     "execution_count": 30,
     "metadata": {},
     "output_type": "execute_result"
    }
   ],
   "source": [
    "casos_raw['data_com'] = [ \"\" ] * len(casos_raw)\n",
    "casos_raw['rs'] = [ \"\" ] * len(casos_raw)\n",
    "casos_raw.columns"
   ]
  },
  {
   "cell_type": "code",
   "execution_count": 31,
   "metadata": {},
   "outputs": [],
   "source": [
    "novos_casos = casos_raw[['nome_paciente','sexo','idade','municipio_residencia', 'municipio_atendimento', 'rs', 'exame','data_diagnostico','data_com','data_primeiro_sintomas']]\n",
    "novos_casos.to_excel('novos_casos.xlsx', index=False)"
   ]
  },
  {
   "cell_type": "code",
   "execution_count": null,
   "metadata": {},
   "outputs": [],
   "source": []
  }
 ],
 "metadata": {
  "kernelspec": {
   "display_name": "Python 3",
   "language": "python",
   "name": "python3"
  },
  "language_info": {
   "codemirror_mode": {
    "name": "ipython",
    "version": 3
   },
   "file_extension": ".py",
   "mimetype": "text/x-python",
   "name": "python",
   "nbconvert_exporter": "python",
   "pygments_lexer": "ipython3",
   "version": "3.8.3"
  }
 },
 "nbformat": 4,
 "nbformat_minor": 4
}
