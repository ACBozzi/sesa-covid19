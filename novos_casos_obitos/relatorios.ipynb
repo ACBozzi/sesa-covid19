{
 "cells": [
  {
   "cell_type": "code",
   "execution_count": 1,
   "metadata": {},
   "outputs": [],
   "source": [
    "import pandas as pd\n",
    "from datetime import datetime\n",
    "from unidecode import unidecode\n",
    "import codecs\n",
    "\n",
    "\n",
    "meses = ['jan','fev','mar','abril','mai','jun','jul','ago','set','out','nov','dez']\n",
    "\n",
    "def trim_overspace(text):\n",
    "\tparts = filter(lambda x: len(x) > 0,text.split(\" \"))\n",
    "\treturn \" \".join(parts)\n",
    "\n",
    "def normalize_text(text):\n",
    "    #.replace(\"'\",\" \") alguns municipios tem ' e as macros maravilhosas do excel vão falhar\n",
    "\tx = str(text).replace(\".\",\"\").replace(\"\\n\",\"\").replace(\",\",\"\").upper()\n",
    "\tx = trim_overspace(x)\n",
    "\tx = unidecode(x)\n",
    "\n",
    "\tif x == 'nan' or len(x) == 0 or x == '0' or x == 'nao_informado':\n",
    "\t\treturn ''\n",
    "\telse:\n",
    "\t\treturn x\n",
    "    \n",
    "def normalize_labels(text):\n",
    "\tx = str(text).replace(\"'\",\" \").replace(\".\",\"\").replace(\"\\n\",\"\").replace(\",\",\"\").lower()\n",
    "\tx = trim_overspace(x).replace(\" \",\"_\")\n",
    "\tx = unidecode(x)\n",
    "\n",
    "\tif x == 'nan' or len(x) == 0 or x == '0' or x == 'nao_informado':\n",
    "\t\treturn ''\n",
    "\telse:\n",
    "\t\treturn x\n",
    "    \n",
    "def normalize_number(num,cast=int,error='fill',fill='0'):\n",
    "\ttry:\n",
    "\t\treturn cast(num)\n",
    "\texcept ValueError:\n",
    "\t\tif error == 'raise':\n",
    "\t\t\traise Exception(ValueError)\n",
    "\t\telif error == 'fill':\n",
    "\t\t\treturn normalize_number(fill,cast,'raise')\n",
    "        \n",
    "def date_format(date):\n",
    "    return f\"{date.day}/{meses[date.month-1]}\""
   ]
  },
  {
   "cell_type": "code",
   "execution_count": 2,
   "metadata": {},
   "outputs": [
    {
     "name": "stdout",
     "output_type": "stream",
     "text": [
      "Casos excluidos 3\n",
      "Casos confirmados PR 243651\n",
      "Casos confirmados Total 246166\n"
     ]
    }
   ],
   "source": [
    "casos_confirmados = pd.read_excel('Casos confirmados PR.xlsx', 'Casos confirmados', usecols='D:M')\n",
    "casos_confirmados.columns = [ normalize_labels(x) for x in casos_confirmados.columns]\n",
    "casos_confirmados['nome'] = casos_confirmados['nome'].apply(normalize_text)\n",
    "casos_confirmados['idade'] = casos_confirmados['idade'].apply(normalize_number)\n",
    "casos_confirmados['mun_resid'] = casos_confirmados['mun_resid'].apply(normalize_text)\n",
    "casos_confirmados['mun_atend'] = casos_confirmados['mun_atend'].apply(normalize_text)\n",
    "\n",
    "casos_excluidos = casos_confirmados.loc[casos_confirmados['mun_resid']=='EXCLUIR']\n",
    "casos_confirmados = casos_confirmados.loc[casos_confirmados['mun_resid']!='EXCLUIR']\n",
    "\n",
    "casos_confirmadosPR = casos_confirmados[casos_confirmados['rs'].notnull()]\n",
    "print(f\"Casos excluidos {len(casos_excluidos)}\")\n",
    "print(f\"Casos confirmados PR {len(casos_confirmadosPR)}\")\n",
    "print(f\"Casos confirmados Total {len(casos_confirmados)}\")"
   ]
  },
  {
   "cell_type": "code",
   "execution_count": 3,
   "metadata": {},
   "outputs": [
    {
     "name": "stdout",
     "output_type": "stream",
     "text": [
      "Obitos excluidos 3\n",
      "Obitos confirmados PR 5739\n",
      "Obitos confirmados Total 5790\n"
     ]
    }
   ],
   "source": [
    "obitos_confirmados = pd.read_excel('Casos confirmados PR.xlsx', 'Obitos', usecols='D:I')\n",
    "obitos_confirmados.columns = [ normalize_labels(x) for x in obitos_confirmados.columns]\n",
    "obitos_confirmados['nome'] = obitos_confirmados['nome'].apply(normalize_text)\n",
    "obitos_confirmados['idade'] = obitos_confirmados['idade'].apply(normalize_number)\n",
    "obitos_confirmados['municipio'] = obitos_confirmados['municipio'].apply(normalize_text)\n",
    "\n",
    "obitos_excluidos = obitos_confirmados.loc[obitos_confirmados['municipio']=='EXCLUIR']\n",
    "obitos_confirmados = obitos_confirmados.loc[obitos_confirmados['municipio']!='EXCLUIR']\n",
    "\n",
    "\n",
    "obitos_confirmadosPR = obitos_confirmados[obitos_confirmados['rs'].notnull()]\n",
    "print(f\"Obitos excluidos {len(obitos_excluidos)}\")\n",
    "print(f\"Obitos confirmados PR {len(obitos_confirmadosPR)}\")\n",
    "print(f\"Obitos confirmados Total {len(obitos_confirmados)}\")"
   ]
  },
  {
   "cell_type": "code",
   "execution_count": 4,
   "metadata": {},
   "outputs": [
    {
     "name": "stdout",
     "output_type": "stream",
     "text": [
      "Total de novos casos: 2687\n",
      "Total de novos obitos: 37\n",
      "Total de novos casos PR: 2678\n",
      "Total de novos obitos PR: 36\n",
      "Total de novos casos Fora: 9\n",
      "Total de novos obitos Fora: 1\n"
     ]
    }
   ],
   "source": [
    "novos_casos = pd.read_excel('novos_casos.xlsx', dtype={'rs':str})\n",
    "print(f\"Total de novos casos: {len(novos_casos)}\")\n",
    "novos_obitos = pd.read_excel('novos_obitos.xlsx', dtype={'rs':str})\n",
    "print(f\"Total de novos obitos: {len(novos_obitos)}\")\n",
    "novos_casosPR = novos_casos.loc[novos_casos['rs'].notnull()]\n",
    "print(f\"Total de novos casos PR: {len(novos_casosPR)}\")\n",
    "novos_obitosPR = novos_obitos.loc[novos_obitos['rs'].notnull()]\n",
    "print(f\"Total de novos obitos PR: {len(novos_obitosPR)}\")\n",
    "novos_casosFora = novos_casos.loc[novos_casos['rs'].isnull()]\n",
    "print(f\"Total de novos casos Fora: {len(novos_casosFora)}\")\n",
    "novos_obitosFora = novos_obitos.loc[novos_obitos['rs'].isnull()]\n",
    "print(f\"Total de novos obitos Fora: {len(novos_obitosFora)}\")"
   ]
  },
  {
   "cell_type": "code",
   "execution_count": 5,
   "metadata": {},
   "outputs": [],
   "source": [
    "novos_obitosPR_group = novos_obitosPR.groupby(by='mun_resid')\n",
    "today = datetime.today().strftime('%d/%m/%Y - %Hh %M')\n",
    "with codecs.open(f\"relatorio_{(today.replace('/','_').replace(' ',''))}.txt\",\"w\",\"utf-8-sig\") as relatorio:\n",
    "    relatorio.write(f\"{today}\\n\")\n",
    "    relatorio.write(f\"{len(novos_casosPR):,} novos casos residentes \".replace(',','.'))\n",
    "    if len(novos_casosFora) > 0:\n",
    "        relatorio.write(f\"{len(novos_casosFora):,} não residente{'s' if len(novos_casosFora) > 1 else ''} \".replace(',','.'))\n",
    "    relatorio.write(f\"no PR.\\n\\n\")\n",
    "    relatorio.write(f\"{len(casos_confirmadosPR)+len(novos_casosPR):,} casos confirmados residentes do PR.\\n\".replace(',','.'))\n",
    "    relatorio.write(f\"{len(casos_confirmados)+len(novos_casos):,} total geral.\\n\\n\".replace(',','.'))\n",
    "    relatorio.write(f\"{len(novos_obitosPR):,} Óbitos residentes do PR:\\n\".replace(',','.'))\n",
    "    for municipio, obitos in novos_obitosPR_group:\n",
    "        relatorio.write(f\"{len(obitos):,} {municipio}\\n\".replace(',','.'))\n",
    "    if len(novos_obitosFora) > 0:\n",
    "        relatorio.write(f\"{len(novos_obitosFora):,} Óbito{'s' if len(novos_obitosFora) > 1 else ''} não residente{'s' if len(novos_obitosFora) > 1 else ''} do PR.\\n\\n\".replace(',','.'))\n",
    "    relatorio.write(f\"{len(obitos_confirmadosPR)+len(novos_obitosPR):,} óbitos residentes do PR.\\n\".replace(',','.'))\n",
    "    relatorio.write(f\"{len(obitos_confirmados)+len(novos_obitos):,} total geral.\\n\\n\".replace(',','.'))\n",
    "    for index, row in novos_obitosPR.iterrows():\n",
    "        relatorio.write(f\"{row['sexo']} {row['idade']} {row['mun_resid']} {row['rs']} {row['data_cura_obito'].day}/{meses[row['data_cura_obito'].month-1]}\\n\")"
   ]
  },
  {
   "cell_type": "code",
   "execution_count": 6,
   "metadata": {},
   "outputs": [],
   "source": [
    "# for grupo, valor in novos_casosPR.groupby(by='data_liberacao'):\n",
    "#     print(f\"{grupo}: {len(valor)}\")"
   ]
  },
  {
   "cell_type": "code",
   "execution_count": null,
   "metadata": {},
   "outputs": [],
   "source": []
  }
 ],
 "metadata": {
  "kernelspec": {
   "display_name": "Python 3",
   "language": "python",
   "name": "python3"
  },
  "language_info": {
   "codemirror_mode": {
    "name": "ipython",
    "version": 3
   },
   "file_extension": ".py",
   "mimetype": "text/x-python",
   "name": "python",
   "nbconvert_exporter": "python",
   "pygments_lexer": "ipython3",
   "version": "3.8.3"
  }
 },
 "nbformat": 4,
 "nbformat_minor": 4
}
