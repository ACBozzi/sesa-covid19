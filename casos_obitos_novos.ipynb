{
 "cells": [
  {
   "cell_type": "code",
   "execution_count": 1,
   "metadata": {},
   "outputs": [],
   "source": [
    "import numpy as np\n",
    "import pandas as pd\n",
    "from datetime import datetime\n",
    "from os.path import dirname, join\n",
    "from hashlib import md5\n",
    "from unidecode import unidecode\n",
    "\n",
    "from sys import exit\n",
    "\n",
    "pd.set_option('display.max_columns',None)"
   ]
  },
  {
   "cell_type": "code",
   "execution_count": 2,
   "metadata": {},
   "outputs": [],
   "source": [
    "from bulletin import __file__ as __root__\n",
    "from bulletin.commom.normalize import trim_overspace, normalize_text, normalize_number, normalize_date, normalize_municipios, normalize_igbe\n",
    "from bulletin.data import municipios, regionais\n",
    "\n",
    "mun_list = municipios.load()\n",
    "mun_list = mun_list.rename(columns={'mun_nome':'municipio'}) \n",
    "\n",
    "rs_list = regionais.load()\n",
    "rs_list = rs_list.rename(columns={'reg':'regional'}) \n",
    "\n",
    "\n",
    "def normalize_nome(text):\n",
    "    x = str(text).replace(\"'\",\" \").replace(\".\",\"\").replace(\"\\n\",\"\").replace(\",\",\"\").upper()\n",
    "    x = trim_overspace(x)\n",
    "    x = unidecode(x)\n",
    "    return x\n",
    "    \n",
    "def normalize_email(text):\n",
    "    x = str(text).replace(\"'\",\"\").replace(\"\\n\",\"\").replace(\",\",\"\").upper()\n",
    "    x = trim_overspace(x)\n",
    "    x = unidecode(x)\n",
    "    return x\n",
    "\n",
    "def normalize_do(do):\n",
    "    try:\n",
    "        do = str(do).replace(\"-\",\"\")\n",
    "        return int(do)\n",
    "    except:\n",
    "        return None\n"
   ]
  },
  {
   "cell_type": "code",
   "execution_count": 3,
   "metadata": {},
   "outputs": [],
   "source": [
    "nt_dtypes = {\n",
    "    \"id\":\"int64\",\n",
    "    \"uf_residencia\":\"int64\",\n",
    "    \"ibge_residencia\":\"int64\",\n",
    "    \"telefone_notificador\":\"object\"\n",
    "}\n",
    "nt_converters = {\n",
    "    \"paciente\": normalize_nome,\n",
    "    \"nome_mae\": normalize_nome,\n",
    "    \"idade\":lambda x: normalize_number(x,fill=0),\n",
    "    \"sexo\":lambda x: normalize_number(x,fill=3),\n",
    "    \"etnia\":normalize_number,\n",
    "    \"raca_cor\":lambda x: normalize_number(x,fill=6),\n",
    "    \"nome_notificador\":normalize_nome,\n",
    "    \"email_notificador\":normalize_email,\n",
    "    \"nome_unidade_notifica\":normalize_nome,\n",
    "    \"uf_unidade_notifica\":normalize_number,\n",
    "    \"ibge_unidade_notifica\":normalize_number,\n",
    "    \"evolucao\":lambda x: normalize_number(x,fill=3),\n",
    "    \"resultado\":normalize_number\n",
    "}\n",
    "nt_dates = [\n",
    "    \"data_notificacao\",\n",
    "    \"data_nascimento\",\n",
    "    \"data_liberacao\",\n",
    "    \"data_cura_obito\",\n",
    "    \"updated_at\"\n",
    "\n",
    "]\n",
    "notifica = pd.read_csv(join(dirname(__root__),'tmp','notifica.csv'),\n",
    "                       dtype=nt_dtypes, \n",
    "                       converters=nt_converters,\n",
    "                       parse_dates=nt_dates,\n",
    "                       date_parser=lambda x: pd.to_datetime(x, format='%d/%m/%Y', errors='coerce'))\n",
    "\n"
   ]
  },
  {
   "cell_type": "code",
   "execution_count": null,
   "metadata": {},
   "outputs": [],
   "source": [
    "notifica = pd.merge(left=notifica, right=mun_list[['ibge','municipio']], left_on='ibge_residencia', right_on='ibge', how='left')\n",
    "notifica = notifica.drop(columns=['ibge'])\n",
    "notifica = pd.merge(left=notifica, right=rs_list[['ibge','regional']], left_on='ibge_residencia', right_on='ibge', how='left')\n",
    "notifica = notifica.drop(columns=['ibge'])\n",
    "notifica = pd.merge(left=notifica, right=mun_list[['ibge','municipio']], left_on='ibge_unidade_notifica', right_on='ibge', how='left', suffixes=['_residencia','_notifica'])\n",
    "notifica = notifica.drop(columns=['ibge'])\n",
    "\n",
    "notifica['municipio_residencia'] = notifica['municipio_residencia'].apply(normalize_nome)\n",
    "notifica['municipio_notifica'] = notifica['municipio_notifica'].apply(normalize_nome)\n",
    "notifica['regional'] = notifica['regional'].apply(normalize_number)\n",
    "\n",
    "notifica['hash'] = notifica.apply(lambda row: md5(str.encode(\" \".join([row['paciente'],str(row['idade']),row['municipio_residencia']]))).hexdigest(), axis=1)\n",
    "notifica"
   ]
  },
  {
   "cell_type": "code",
   "execution_count": null,
   "metadata": {},
   "outputs": [],
   "source": [
    "casos_dtypes = {\n",
    "    \"Laboratório\":\"object\",\n",
    "    \"Sexo\":\"object\"\n",
    "}\n",
    "casos_converters = {\n",
    "    \"Nome\": normalize_nome,\n",
    "    \"Idade\":lambda x: normalize_number(x,fill=-9),\n",
    "    \"Mun Resid\":normalize_nome,\n",
    "    \"Mun atend\":normalize_nome,\n",
    "    \"RS\":normalize_number\n",
    "}\n",
    "casos_dates = [\n",
    "    \"Dt diag\",\n",
    "    \"Comunicação\",\n",
    "    \"IS\"\n",
    "]\n",
    "\n",
    "\n",
    "casos = pd.read_excel('Casos confirmados PR.xlsx',\n",
    "                      'Casos confirmados', \n",
    "                      usecols='D:M', \n",
    "                      dtype=casos_dtypes, \n",
    "                      converters=casos_converters,\n",
    "                      parse_dates=casos_dates)\n",
    "\n",
    "casos.columns = [ normalize_text(x) for x in casos.columns ]\n",
    "casos['hash'] = casos.apply(lambda row: md5(str.encode(\" \".join([row['nome'],str(row['idade']),row['mun_resid']]))).hexdigest(), axis=1)\n",
    "casos['hash_less'] = casos.apply(lambda row: md5(str.encode(\" \".join([row['nome'],str(row['idade']-1),row['mun_resid']]))).hexdigest(), axis=1)\n",
    "casos['hash_more'] = casos.apply(lambda row: md5(str.encode(\" \".join([row['nome'],str(row['idade']+1),row['mun_resid']]))).hexdigest(), axis=1)\n",
    "\n",
    "casos"
   ]
  },
  {
   "cell_type": "code",
   "execution_count": null,
   "metadata": {},
   "outputs": [],
   "source": [
    "obitos_dtypes = {\n",
    "    \"Sexo\":\"object\"\n",
    "}\n",
    "obitos_converters = {\n",
    "    \"Nome\": normalize_nome,\n",
    "    \"Idade\":lambda x: normalize_number(x,fill=-9),\n",
    "    \"Município\":normalize_nome,\n",
    "    \"RS\":normalize_number\n",
    "}\n",
    "obitos_dates = [\n",
    "    \"Data do óbito\",\n",
    "]\n",
    "\n",
    "obitos = pd.read_excel('Casos confirmados PR.xlsx',\n",
    "                      'Obitos', \n",
    "                      usecols='D:I', \n",
    "                      dtype=casos_dtypes, \n",
    "                      converters=casos_converters,\n",
    "                      parse_dates=obitos_dates)\n",
    "\n",
    "\n",
    "obitos.columns = [ normalize_text(x) for x in obitos.columns ]\n",
    "obitos['hash'] = obitos.apply(lambda row: md5(str.encode(\" \".join([row['nome'],str(row['idade']),row['municipio']]))).hexdigest(), axis=1)\n",
    "obitos['hash_less'] = obitos.apply(lambda row: md5(str.encode(\" \".join([row['nome'],str(row['idade']-1),row['municipio']]))).hexdigest(), axis=1)\n",
    "obitos['hash_more'] = obitos.apply(lambda row: md5(str.encode(\" \".join([row['nome'],str(row['idade']+1),row['municipio']]))).hexdigest(), axis=1)\n",
    "\n",
    "obitos"
   ]
  },
  {
   "cell_type": "code",
   "execution_count": 20,
   "metadata": {},
   "outputs": [
    {
     "data": {
      "text/plain": [
       "(370, 13)"
      ]
     },
     "execution_count": 20,
     "metadata": {},
     "output_type": "execute_result"
    }
   ],
   "source": [
    "casos.loc[casos.duplicated(subset='hash')].shape"
   ]
  },
  {
   "cell_type": "code",
   "execution_count": 21,
   "metadata": {},
   "outputs": [
    {
     "data": {
      "text/plain": [
       "(1730, 13)"
      ]
     },
     "execution_count": 21,
     "metadata": {},
     "output_type": "execute_result"
    }
   ],
   "source": [
    "casos.loc[casos['hash'].isin(casos['hash_less'])].shape"
   ]
  },
  {
   "cell_type": "code",
   "execution_count": 22,
   "metadata": {},
   "outputs": [
    {
     "data": {
      "text/plain": [
       "(1727, 13)"
      ]
     },
     "execution_count": 22,
     "metadata": {},
     "output_type": "execute_result"
    }
   ],
   "source": [
    "casos.loc[casos['hash'].isin(casos['hash_more'])].shape"
   ]
  },
  {
   "cell_type": "code",
   "execution_count": 23,
   "metadata": {},
   "outputs": [
    {
     "data": {
      "text/plain": [
       "(0, 9)"
      ]
     },
     "execution_count": 23,
     "metadata": {},
     "output_type": "execute_result"
    }
   ],
   "source": [
    "obitos.loc[obitos.duplicated(subset='hash')].shape"
   ]
  },
  {
   "cell_type": "code",
   "execution_count": 24,
   "metadata": {},
   "outputs": [
    {
     "data": {
      "text/plain": [
       "(6, 9)"
      ]
     },
     "execution_count": 24,
     "metadata": {},
     "output_type": "execute_result"
    }
   ],
   "source": [
    "obitos.loc[obitos['hash'].isin(obitos['hash_less'])].shape"
   ]
  },
  {
   "cell_type": "code",
   "execution_count": 25,
   "metadata": {},
   "outputs": [
    {
     "data": {
      "text/plain": [
       "(6, 9)"
      ]
     },
     "execution_count": 25,
     "metadata": {},
     "output_type": "execute_result"
    }
   ],
   "source": [
    "obitos.loc[obitos['hash'].isin(obitos['hash_more'])].shape"
   ]
  },
  {
   "cell_type": "code",
   "execution_count": 26,
   "metadata": {},
   "outputs": [
    {
     "data": {
      "text/plain": [
       "(155080, 26)"
      ]
     },
     "execution_count": 26,
     "metadata": {},
     "output_type": "execute_result"
    }
   ],
   "source": [
    "notifica.loc[notifica['hash'].isin(casos['hash'])].shape"
   ]
  },
  {
   "cell_type": "code",
   "execution_count": 27,
   "metadata": {},
   "outputs": [
    {
     "data": {
      "text/plain": [
       "(319, 26)"
      ]
     },
     "execution_count": 27,
     "metadata": {},
     "output_type": "execute_result"
    }
   ],
   "source": [
    "notifica.loc[notifica['hash'].isin(casos['hash_less'])].shape"
   ]
  },
  {
   "cell_type": "code",
   "execution_count": 28,
   "metadata": {},
   "outputs": [
    {
     "data": {
      "text/plain": [
       "(8082, 26)"
      ]
     },
     "execution_count": 28,
     "metadata": {},
     "output_type": "execute_result"
    }
   ],
   "source": [
    "notifica.loc[notifica['hash'].isin(casos['hash_more'])].shape"
   ]
  },
  {
   "cell_type": "code",
   "execution_count": 29,
   "metadata": {},
   "outputs": [
    {
     "data": {
      "text/plain": [
       "(3445, 26)"
      ]
     },
     "execution_count": 29,
     "metadata": {},
     "output_type": "execute_result"
    }
   ],
   "source": [
    "notifica.loc[notifica['hash'].isin(obitos['hash'])].shape"
   ]
  },
  {
   "cell_type": "code",
   "execution_count": 30,
   "metadata": {},
   "outputs": [
    {
     "data": {
      "text/plain": [
       "(11, 26)"
      ]
     },
     "execution_count": 30,
     "metadata": {},
     "output_type": "execute_result"
    }
   ],
   "source": [
    "notifica.loc[notifica['hash'].isin(obitos['hash_less'])].shape"
   ]
  },
  {
   "cell_type": "code",
   "execution_count": 31,
   "metadata": {},
   "outputs": [
    {
     "data": {
      "text/plain": [
       "(564, 26)"
      ]
     },
     "execution_count": 31,
     "metadata": {},
     "output_type": "execute_result"
    }
   ],
   "source": [
    "notifica.loc[notifica['hash'].isin(obitos['hash_more'])].shape"
   ]
  },
  {
   "cell_type": "code",
   "execution_count": null,
   "metadata": {},
   "outputs": [],
   "source": []
  }
 ],
 "metadata": {
  "kernelspec": {
   "display_name": "Python 3",
   "language": "python",
   "name": "python3"
  },
  "language_info": {
   "codemirror_mode": {
    "name": "ipython",
    "version": 3
   },
   "file_extension": ".py",
   "mimetype": "text/x-python",
   "name": "python",
   "nbconvert_exporter": "python",
   "pygments_lexer": "ipython3",
   "version": "3.8.3"
  }
 },
 "nbformat": 4,
 "nbformat_minor": 4
}
