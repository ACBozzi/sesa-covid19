{
 "cells": [
  {
   "cell_type": "code",
   "execution_count": 1,
   "metadata": {},
   "outputs": [],
   "source": [
    "import pandas as pd\n",
    "from sys import exit\n",
    "\n",
    "from bulletin.data import casos, obitos, municipios, regionais\n",
    "from bulletin.commom import normalize"
   ]
  },
  {
   "cell_type": "code",
   "execution_count": 2,
   "metadata": {},
   "outputs": [],
   "source": [
    "mun_list = municipios.read()\n",
    "rs_list = regionais.read()"
   ]
  },
  {
   "cell_type": "code",
   "execution_count": 3,
   "metadata": {},
   "outputs": [
    {
     "name": "stdout",
     "output_type": "stream",
     "text": [
      "C:\\SESA\\sesa-covid19\\bulletin\\tmp\\cievs.xlsx:Casos confirmados loaded\n",
      "C:\\SESA\\sesa-covid19\\bulletin\\tmp\\cievs_casos.pkl saved\n",
      "C:\\SESA\\sesa-covid19\\bulletin\\tmp\\cievs.xlsx:Obitos loaded\n",
      "C:\\SESA\\sesa-covid19\\bulletin\\tmp\\cievs_obitos.pkl saved\n",
      "casos: 221208\tobitos: 5392\n"
     ]
    }
   ],
   "source": [
    "casos_df = casos.read()\n",
    "obitos_df = obitos.read()\n",
    "\n",
    "print(f\"casos: {len(casos_df)}\\tobitos: {len(obitos_df)}\")"
   ]
  },
  {
   "cell_type": "code",
   "execution_count": 4,
   "metadata": {},
   "outputs": [
    {
     "name": "stdout",
     "output_type": "stream",
     "text": [
      "439 casos duplicados\n"
     ]
    }
   ],
   "source": [
    "print(f\"{len(casos_df.loc[casos_df.duplicated(subset='hash')])} casos duplicados\")\n",
    "casos_df = casos_df.drop_duplicates(subset='hash')"
   ]
  },
  {
   "cell_type": "code",
   "execution_count": 5,
   "metadata": {},
   "outputs": [
    {
     "name": "stdout",
     "output_type": "stream",
     "text": [
      "1 obitos duplicados\n"
     ]
    }
   ],
   "source": [
    "print(f\"{len(obitos_df.loc[obitos_df.duplicated(subset='hash')])} obitos duplicados\")\n",
    "obitos_df = obitos_df.drop_duplicates(subset='hash')             "
   ]
  },
  {
   "cell_type": "code",
   "execution_count": 6,
   "metadata": {},
   "outputs": [
    {
     "name": "stdout",
     "output_type": "stream",
     "text": [
      "casos: 220769\tobitos: 5391\n"
     ]
    }
   ],
   "source": [
    "print(f\"casos: {len(casos_df)}\\tobitos: {len(obitos_df)}\")\n",
    "casos_df['dt_com'] = casos_df['dt_com'].apply(casos.add_dt_com)"
   ]
  },
  {
   "cell_type": "code",
   "execution_count": 7,
   "metadata": {},
   "outputs": [],
   "source": [
    "casos_total = pd.merge(left=casos_df, right=mun_list, how='left', on='ibge')\n",
    "casos_total = pd.merge(left=casos_df, right=rs_list, how='left', on='ibge')\n",
    "casos_total = pd.merge(left=casos_df, right=obitos_df, how='left', on='hash')"
   ]
  },
  {
   "cell_type": "code",
   "execution_count": 8,
   "metadata": {},
   "outputs": [
    {
     "name": "stdout",
     "output_type": "stream",
     "text": [
      "Casos\n",
      "Total:\t220769\n",
      "Paraná:\t218497\n",
      "Fora:\t2272\n"
     ]
    }
   ],
   "source": [
    "casos_pr = casos_total.loc[casos_total['ibge']!=-1]\n",
    "casos_fora = casos_total.loc[casos_total['ibge']==-1]\n",
    "print(f\"Casos\\nTotal:\\t{len(casos_total)}\\nParaná:\\t{len(casos_pr)}\\nFora:\\t{len(casos_fora)}\")"
   ]
  },
  {
   "cell_type": "code",
   "execution_count": 9,
   "metadata": {},
   "outputs": [
    {
     "name": "stdout",
     "output_type": "stream",
     "text": [
      "Obitos\n",
      "Total:\t5378\n",
      "Paraná:\t5327\n",
      "Fora:\t51\n"
     ]
    }
   ],
   "source": [
    "obitos_total = casos_total.loc[casos_total['dt_obt'].notnull()]\n",
    "obitos_pr = casos_pr.loc[casos_pr['dt_obt'].notnull()]\n",
    "obitos_fora = casos_fora.loc[casos_fora['dt_obt'].notnull()]\n",
    "print(f\"Obitos\\nTotal:\\t{len(obitos_total)}\\nParaná:\\t{len(obitos_pr)}\\nFora:\\t{len(obitos_fora)}\")"
   ]
  },
  {
   "cell_type": "code",
   "execution_count": null,
   "metadata": {},
   "outputs": [],
   "source": []
  }
 ],
 "metadata": {
  "kernelspec": {
   "display_name": "Python 3",
   "language": "python",
   "name": "python3"
  },
  "language_info": {
   "codemirror_mode": {
    "name": "ipython",
    "version": 3
   },
   "file_extension": ".py",
   "mimetype": "text/x-python",
   "name": "python",
   "nbconvert_exporter": "python",
   "pygments_lexer": "ipython3",
   "version": "3.8.3"
  }
 },
 "nbformat": 4,
 "nbformat_minor": 4
}
